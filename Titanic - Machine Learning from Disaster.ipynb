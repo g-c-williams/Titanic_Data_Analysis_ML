{
 "cells": [
  {
   "cell_type": "markdown",
   "id": "97f0d5af",
   "metadata": {},
   "source": [
    "# The Titanic Disaster: A Data Analysis & ML Project\n",
    "By: Gavin Williams"
   ]
  },
  {
   "cell_type": "code",
   "execution_count": 1,
   "id": "ba033849",
   "metadata": {},
   "outputs": [],
   "source": [
    "import pandas as pd\n",
    "from pandas import Series,DataFrame"
   ]
  },
  {
   "cell_type": "markdown",
   "id": "36643adf",
   "metadata": {},
   "source": [
    "First, let's create our intial dataframe using the csv file, \"train\", which provides the outcome (also known as the “ground truth”) for each passenger of the Titanic."
   ]
  },
  {
   "cell_type": "code",
   "execution_count": 2,
   "id": "7501d25c",
   "metadata": {},
   "outputs": [],
   "source": [
    "titanic_df = pd.read_csv('train.csv')"
   ]
  },
  {
   "cell_type": "markdown",
   "id": "57b3621d",
   "metadata": {},
   "source": [
    "Let's take a look at the first five (5) rows of the dataframe, titanic_df:"
   ]
  },
  {
   "cell_type": "code",
   "execution_count": 3,
   "id": "2fe6b04f",
   "metadata": {},
   "outputs": [
    {
     "data": {
      "text/html": [
       "<div>\n",
       "<style scoped>\n",
       "    .dataframe tbody tr th:only-of-type {\n",
       "        vertical-align: middle;\n",
       "    }\n",
       "\n",
       "    .dataframe tbody tr th {\n",
       "        vertical-align: top;\n",
       "    }\n",
       "\n",
       "    .dataframe thead th {\n",
       "        text-align: right;\n",
       "    }\n",
       "</style>\n",
       "<table border=\"1\" class=\"dataframe\">\n",
       "  <thead>\n",
       "    <tr style=\"text-align: right;\">\n",
       "      <th></th>\n",
       "      <th>PassengerId</th>\n",
       "      <th>Survived</th>\n",
       "      <th>Pclass</th>\n",
       "      <th>Name</th>\n",
       "      <th>Sex</th>\n",
       "      <th>Age</th>\n",
       "      <th>SibSp</th>\n",
       "      <th>Parch</th>\n",
       "      <th>Ticket</th>\n",
       "      <th>Fare</th>\n",
       "      <th>Cabin</th>\n",
       "      <th>Embarked</th>\n",
       "    </tr>\n",
       "  </thead>\n",
       "  <tbody>\n",
       "    <tr>\n",
       "      <th>0</th>\n",
       "      <td>1</td>\n",
       "      <td>0</td>\n",
       "      <td>3</td>\n",
       "      <td>Braund, Mr. Owen Harris</td>\n",
       "      <td>male</td>\n",
       "      <td>22.0</td>\n",
       "      <td>1</td>\n",
       "      <td>0</td>\n",
       "      <td>A/5 21171</td>\n",
       "      <td>7.2500</td>\n",
       "      <td>NaN</td>\n",
       "      <td>S</td>\n",
       "    </tr>\n",
       "    <tr>\n",
       "      <th>1</th>\n",
       "      <td>2</td>\n",
       "      <td>1</td>\n",
       "      <td>1</td>\n",
       "      <td>Cumings, Mrs. John Bradley (Florence Briggs Th...</td>\n",
       "      <td>female</td>\n",
       "      <td>38.0</td>\n",
       "      <td>1</td>\n",
       "      <td>0</td>\n",
       "      <td>PC 17599</td>\n",
       "      <td>71.2833</td>\n",
       "      <td>C85</td>\n",
       "      <td>C</td>\n",
       "    </tr>\n",
       "    <tr>\n",
       "      <th>2</th>\n",
       "      <td>3</td>\n",
       "      <td>1</td>\n",
       "      <td>3</td>\n",
       "      <td>Heikkinen, Miss. Laina</td>\n",
       "      <td>female</td>\n",
       "      <td>26.0</td>\n",
       "      <td>0</td>\n",
       "      <td>0</td>\n",
       "      <td>STON/O2. 3101282</td>\n",
       "      <td>7.9250</td>\n",
       "      <td>NaN</td>\n",
       "      <td>S</td>\n",
       "    </tr>\n",
       "    <tr>\n",
       "      <th>3</th>\n",
       "      <td>4</td>\n",
       "      <td>1</td>\n",
       "      <td>1</td>\n",
       "      <td>Futrelle, Mrs. Jacques Heath (Lily May Peel)</td>\n",
       "      <td>female</td>\n",
       "      <td>35.0</td>\n",
       "      <td>1</td>\n",
       "      <td>0</td>\n",
       "      <td>113803</td>\n",
       "      <td>53.1000</td>\n",
       "      <td>C123</td>\n",
       "      <td>S</td>\n",
       "    </tr>\n",
       "    <tr>\n",
       "      <th>4</th>\n",
       "      <td>5</td>\n",
       "      <td>0</td>\n",
       "      <td>3</td>\n",
       "      <td>Allen, Mr. William Henry</td>\n",
       "      <td>male</td>\n",
       "      <td>35.0</td>\n",
       "      <td>0</td>\n",
       "      <td>0</td>\n",
       "      <td>373450</td>\n",
       "      <td>8.0500</td>\n",
       "      <td>NaN</td>\n",
       "      <td>S</td>\n",
       "    </tr>\n",
       "  </tbody>\n",
       "</table>\n",
       "</div>"
      ],
      "text/plain": [
       "   PassengerId  Survived  Pclass  \\\n",
       "0            1         0       3   \n",
       "1            2         1       1   \n",
       "2            3         1       3   \n",
       "3            4         1       1   \n",
       "4            5         0       3   \n",
       "\n",
       "                                                Name     Sex   Age  SibSp  \\\n",
       "0                            Braund, Mr. Owen Harris    male  22.0      1   \n",
       "1  Cumings, Mrs. John Bradley (Florence Briggs Th...  female  38.0      1   \n",
       "2                             Heikkinen, Miss. Laina  female  26.0      0   \n",
       "3       Futrelle, Mrs. Jacques Heath (Lily May Peel)  female  35.0      1   \n",
       "4                           Allen, Mr. William Henry    male  35.0      0   \n",
       "\n",
       "   Parch            Ticket     Fare Cabin Embarked  \n",
       "0      0         A/5 21171   7.2500   NaN        S  \n",
       "1      0          PC 17599  71.2833   C85        C  \n",
       "2      0  STON/O2. 3101282   7.9250   NaN        S  \n",
       "3      0            113803  53.1000  C123        S  \n",
       "4      0            373450   8.0500   NaN        S  "
      ]
     },
     "execution_count": 3,
     "metadata": {},
     "output_type": "execute_result"
    }
   ],
   "source": [
    "titanic_df.head()"
   ]
  },
  {
   "attachments": {
    "image.png": {
     "image/png": "[encoded data removed]"
    }
   },
   "cell_type": "markdown",
   "id": "8fa6e405",
   "metadata": {},
   "source": [
    "According to Kaggle, the data dictionary is as follows:\n",
    "\n",
    "![image.png](attachment:image.png)"
   ]
  },
  {
   "cell_type": "markdown",
   "id": "9d1c13a4",
   "metadata": {},
   "source": [
    "Let's gather some general information on the dataframe itself using Pandas info() method:"
   ]
  },
  {
   "cell_type": "code",
   "execution_count": 4,
   "id": "888474b2",
   "metadata": {},
   "outputs": [
    {
     "name": "stdout",
     "output_type": "stream",
     "text": [
      "<class 'pandas.core.frame.DataFrame'>\n",
      "RangeIndex: 891 entries, 0 to 890\n",
      "Data columns (total 12 columns):\n",
      " #   Column       Non-Null Count  Dtype  \n",
      "---  ------       --------------  -----  \n",
      " 0   PassengerId  891 non-null    int64  \n",
      " 1   Survived     891 non-null    int64  \n",
      " 2   Pclass       891 non-null    int64  \n",
      " 3   Name         891 non-null    object \n",
      " 4   Sex          891 non-null    object \n",
      " 5   Age          714 non-null    float64\n",
      " 6   SibSp        891 non-null    int64  \n",
      " 7   Parch        891 non-null    int64  \n",
      " 8   Ticket       891 non-null    object \n",
      " 9   Fare         891 non-null    float64\n",
      " 10  Cabin        204 non-null    object \n",
      " 11  Embarked     889 non-null    object \n",
      "dtypes: float64(2), int64(5), object(5)\n",
      "memory usage: 83.7+ KB\n"
     ]
    }
   ],
   "source": [
    "titanic_df.info()"
   ]
  },
  {
   "cell_type": "markdown",
   "id": "2810aa76",
   "metadata": {},
   "source": [
    "Based on the information above, three columns possess null values: Age, Cabin, and Embarked. Null values in these columns will be addressed later in the notebook."
   ]
  },
  {
   "cell_type": "markdown",
   "id": "43fd9628",
   "metadata": {},
   "source": [
    "Before beginning our analysis, let's quickly clean up the feature 'Name' by splitting it into two distinct columns: 'First_Name' and 'Last_Name'. While it is unlikely we will analyze the data at the individual level, it is nice to have a cleaner dataframe just in case."
   ]
  },
  {
   "cell_type": "code",
   "execution_count": 5,
   "id": "8633a66a",
   "metadata": {},
   "outputs": [
    {
     "name": "stderr",
     "output_type": "stream",
     "text": [
      "C:\\Users\\cashi\\AppData\\Local\\Temp\\ipykernel_12232\\3395345649.py:16: FutureWarning: The default value of regex will change from True to False in a future version.\n",
      "  titanic_df['First_Name'] = titanic_df['First_Name'].str.replace('[^a-zA-Z]', '')\n",
      "C:\\Users\\cashi\\AppData\\Local\\Temp\\ipykernel_12232\\3395345649.py:17: FutureWarning: The default value of regex will change from True to False in a future version.\n",
      "  titanic_df['Last_Name'] = titanic_df['Last_Name'].str.replace('[^a-zA-Z]', '')\n"
     ]
    }
   ],
   "source": [
    "# splits each row's string value into a list\n",
    "titanic_df['Name'] = titanic_df['Name'].str.split()\n",
    "\n",
    "# functions that will be \"applied\" to the series 'Name' of the dataframe\n",
    "def first_name(name):\n",
    "    return name[-1]\n",
    "\n",
    "def last_name(name):\n",
    "    return name[0]\n",
    "\n",
    "# creates two new columns, 'First_Name' and 'Last_Name'\n",
    "titanic_df['First_Name'] = titanic_df['Name'].apply(first_name)\n",
    "titanic_df['Last_Name'] = titanic_df['Name'].apply(last_name)\n",
    "\n",
    "# removes all non-alphabetical characters (e.g., commas) from the two new columns\n",
    "titanic_df['First_Name'] = titanic_df['First_Name'].str.replace('[^a-zA-Z]', '')\n",
    "titanic_df['Last_Name'] = titanic_df['Last_Name'].str.replace('[^a-zA-Z]', '')"
   ]
  },
  {
   "cell_type": "markdown",
   "id": "ba7e5b9a",
   "metadata": {},
   "source": [
    "Let's take a look at the dataframe:"
   ]
  },
  {
   "cell_type": "code",
   "execution_count": 6,
   "id": "495fc078",
   "metadata": {},
   "outputs": [
    {
     "data": {
      "text/html": [
       "<div>\n",
       "<style scoped>\n",
       "    .dataframe tbody tr th:only-of-type {\n",
       "        vertical-align: middle;\n",
       "    }\n",
       "\n",
       "    .dataframe tbody tr th {\n",
       "        vertical-align: top;\n",
       "    }\n",
       "\n",
       "    .dataframe thead th {\n",
       "        text-align: right;\n",
       "    }\n",
       "</style>\n",
       "<table border=\"1\" class=\"dataframe\">\n",
       "  <thead>\n",
       "    <tr style=\"text-align: right;\">\n",
       "      <th></th>\n",
       "      <th>PassengerId</th>\n",
       "      <th>Survived</th>\n",
       "      <th>Pclass</th>\n",
       "      <th>Name</th>\n",
       "      <th>Sex</th>\n",
       "      <th>Age</th>\n",
       "      <th>SibSp</th>\n",
       "      <th>Parch</th>\n",
       "      <th>Ticket</th>\n",
       "      <th>Fare</th>\n",
       "      <th>Cabin</th>\n",
       "      <th>Embarked</th>\n",
       "      <th>First_Name</th>\n",
       "      <th>Last_Name</th>\n",
       "    </tr>\n",
       "  </thead>\n",
       "  <tbody>\n",
       "    <tr>\n",
       "      <th>0</th>\n",
       "      <td>1</td>\n",
       "      <td>0</td>\n",
       "      <td>3</td>\n",
       "      <td>[Braund,, Mr., Owen, Harris]</td>\n",
       "      <td>male</td>\n",
       "      <td>22.0</td>\n",
       "      <td>1</td>\n",
       "      <td>0</td>\n",
       "      <td>A/5 21171</td>\n",
       "      <td>7.2500</td>\n",
       "      <td>NaN</td>\n",
       "      <td>S</td>\n",
       "      <td>Harris</td>\n",
       "      <td>Braund</td>\n",
       "    </tr>\n",
       "    <tr>\n",
       "      <th>1</th>\n",
       "      <td>2</td>\n",
       "      <td>1</td>\n",
       "      <td>1</td>\n",
       "      <td>[Cumings,, Mrs., John, Bradley, (Florence, Bri...</td>\n",
       "      <td>female</td>\n",
       "      <td>38.0</td>\n",
       "      <td>1</td>\n",
       "      <td>0</td>\n",
       "      <td>PC 17599</td>\n",
       "      <td>71.2833</td>\n",
       "      <td>C85</td>\n",
       "      <td>C</td>\n",
       "      <td>Thayer</td>\n",
       "      <td>Cumings</td>\n",
       "    </tr>\n",
       "    <tr>\n",
       "      <th>2</th>\n",
       "      <td>3</td>\n",
       "      <td>1</td>\n",
       "      <td>3</td>\n",
       "      <td>[Heikkinen,, Miss., Laina]</td>\n",
       "      <td>female</td>\n",
       "      <td>26.0</td>\n",
       "      <td>0</td>\n",
       "      <td>0</td>\n",
       "      <td>STON/O2. 3101282</td>\n",
       "      <td>7.9250</td>\n",
       "      <td>NaN</td>\n",
       "      <td>S</td>\n",
       "      <td>Laina</td>\n",
       "      <td>Heikkinen</td>\n",
       "    </tr>\n",
       "    <tr>\n",
       "      <th>3</th>\n",
       "      <td>4</td>\n",
       "      <td>1</td>\n",
       "      <td>1</td>\n",
       "      <td>[Futrelle,, Mrs., Jacques, Heath, (Lily, May, ...</td>\n",
       "      <td>female</td>\n",
       "      <td>35.0</td>\n",
       "      <td>1</td>\n",
       "      <td>0</td>\n",
       "      <td>113803</td>\n",
       "      <td>53.1000</td>\n",
       "      <td>C123</td>\n",
       "      <td>S</td>\n",
       "      <td>Peel</td>\n",
       "      <td>Futrelle</td>\n",
       "    </tr>\n",
       "    <tr>\n",
       "      <th>4</th>\n",
       "      <td>5</td>\n",
       "      <td>0</td>\n",
       "      <td>3</td>\n",
       "      <td>[Allen,, Mr., William, Henry]</td>\n",
       "      <td>male</td>\n",
       "      <td>35.0</td>\n",
       "      <td>0</td>\n",
       "      <td>0</td>\n",
       "      <td>373450</td>\n",
       "      <td>8.0500</td>\n",
       "      <td>NaN</td>\n",
       "      <td>S</td>\n",
       "      <td>Henry</td>\n",
       "      <td>Allen</td>\n",
       "    </tr>\n",
       "  </tbody>\n",
       "</table>\n",
       "</div>"
      ],
      "text/plain": [
       "   PassengerId  Survived  Pclass  \\\n",
       "0            1         0       3   \n",
       "1            2         1       1   \n",
       "2            3         1       3   \n",
       "3            4         1       1   \n",
       "4            5         0       3   \n",
       "\n",
       "                                                Name     Sex   Age  SibSp  \\\n",
       "0                       [Braund,, Mr., Owen, Harris]    male  22.0      1   \n",
       "1  [Cumings,, Mrs., John, Bradley, (Florence, Bri...  female  38.0      1   \n",
       "2                         [Heikkinen,, Miss., Laina]  female  26.0      0   \n",
       "3  [Futrelle,, Mrs., Jacques, Heath, (Lily, May, ...  female  35.0      1   \n",
       "4                      [Allen,, Mr., William, Henry]    male  35.0      0   \n",
       "\n",
       "   Parch            Ticket     Fare Cabin Embarked First_Name  Last_Name  \n",
       "0      0         A/5 21171   7.2500   NaN        S     Harris     Braund  \n",
       "1      0          PC 17599  71.2833   C85        C     Thayer    Cumings  \n",
       "2      0  STON/O2. 3101282   7.9250   NaN        S      Laina  Heikkinen  \n",
       "3      0            113803  53.1000  C123        S       Peel   Futrelle  \n",
       "4      0            373450   8.0500   NaN        S      Henry      Allen  "
      ]
     },
     "execution_count": 6,
     "metadata": {},
     "output_type": "execute_result"
    }
   ],
   "source": [
    "titanic_df.head()"
   ]
  },
  {
   "cell_type": "markdown",
   "id": "d70dedd9",
   "metadata": {},
   "source": [
    "As we can see, 'Name' has been separated into two new columns: 'First_Name' and 'Last_Name'. All special characters have been removed in the two new columns.\n",
    "\n",
    "Let's now move the two new columns forward in the dataframe..."
   ]
  },
  {
   "cell_type": "code",
   "execution_count": 7,
   "id": "5420cf5e",
   "metadata": {},
   "outputs": [
    {
     "data": {
      "text/html": [
       "<div>\n",
       "<style scoped>\n",
       "    .dataframe tbody tr th:only-of-type {\n",
       "        vertical-align: middle;\n",
       "    }\n",
       "\n",
       "    .dataframe tbody tr th {\n",
       "        vertical-align: top;\n",
       "    }\n",
       "\n",
       "    .dataframe thead th {\n",
       "        text-align: right;\n",
       "    }\n",
       "</style>\n",
       "<table border=\"1\" class=\"dataframe\">\n",
       "  <thead>\n",
       "    <tr style=\"text-align: right;\">\n",
       "      <th></th>\n",
       "      <th>PassengerId</th>\n",
       "      <th>Survived</th>\n",
       "      <th>Pclass</th>\n",
       "      <th>First_Name</th>\n",
       "      <th>Last_Name</th>\n",
       "      <th>Sex</th>\n",
       "      <th>Age</th>\n",
       "      <th>SibSp</th>\n",
       "      <th>Parch</th>\n",
       "      <th>Ticket</th>\n",
       "      <th>Fare</th>\n",
       "      <th>Cabin</th>\n",
       "      <th>Embarked</th>\n",
       "    </tr>\n",
       "  </thead>\n",
       "  <tbody>\n",
       "    <tr>\n",
       "      <th>0</th>\n",
       "      <td>1</td>\n",
       "      <td>0</td>\n",
       "      <td>3</td>\n",
       "      <td>Harris</td>\n",
       "      <td>Braund</td>\n",
       "      <td>male</td>\n",
       "      <td>22.0</td>\n",
       "      <td>1</td>\n",
       "      <td>0</td>\n",
       "      <td>A/5 21171</td>\n",
       "      <td>7.2500</td>\n",
       "      <td>NaN</td>\n",
       "      <td>S</td>\n",
       "    </tr>\n",
       "    <tr>\n",
       "      <th>1</th>\n",
       "      <td>2</td>\n",
       "      <td>1</td>\n",
       "      <td>1</td>\n",
       "      <td>Thayer</td>\n",
       "      <td>Cumings</td>\n",
       "      <td>female</td>\n",
       "      <td>38.0</td>\n",
       "      <td>1</td>\n",
       "      <td>0</td>\n",
       "      <td>PC 17599</td>\n",
       "      <td>71.2833</td>\n",
       "      <td>C85</td>\n",
       "      <td>C</td>\n",
       "    </tr>\n",
       "    <tr>\n",
       "      <th>2</th>\n",
       "      <td>3</td>\n",
       "      <td>1</td>\n",
       "      <td>3</td>\n",
       "      <td>Laina</td>\n",
       "      <td>Heikkinen</td>\n",
       "      <td>female</td>\n",
       "      <td>26.0</td>\n",
       "      <td>0</td>\n",
       "      <td>0</td>\n",
       "      <td>STON/O2. 3101282</td>\n",
       "      <td>7.9250</td>\n",
       "      <td>NaN</td>\n",
       "      <td>S</td>\n",
       "    </tr>\n",
       "    <tr>\n",
       "      <th>3</th>\n",
       "      <td>4</td>\n",
       "      <td>1</td>\n",
       "      <td>1</td>\n",
       "      <td>Peel</td>\n",
       "      <td>Futrelle</td>\n",
       "      <td>female</td>\n",
       "      <td>35.0</td>\n",
       "      <td>1</td>\n",
       "      <td>0</td>\n",
       "      <td>113803</td>\n",
       "      <td>53.1000</td>\n",
       "      <td>C123</td>\n",
       "      <td>S</td>\n",
       "    </tr>\n",
       "    <tr>\n",
       "      <th>4</th>\n",
       "      <td>5</td>\n",
       "      <td>0</td>\n",
       "      <td>3</td>\n",
       "      <td>Henry</td>\n",
       "      <td>Allen</td>\n",
       "      <td>male</td>\n",
       "      <td>35.0</td>\n",
       "      <td>0</td>\n",
       "      <td>0</td>\n",
       "      <td>373450</td>\n",
       "      <td>8.0500</td>\n",
       "      <td>NaN</td>\n",
       "      <td>S</td>\n",
       "    </tr>\n",
       "    <tr>\n",
       "      <th>...</th>\n",
       "      <td>...</td>\n",
       "      <td>...</td>\n",
       "      <td>...</td>\n",
       "      <td>...</td>\n",
       "      <td>...</td>\n",
       "      <td>...</td>\n",
       "      <td>...</td>\n",
       "      <td>...</td>\n",
       "      <td>...</td>\n",
       "      <td>...</td>\n",
       "      <td>...</td>\n",
       "      <td>...</td>\n",
       "      <td>...</td>\n",
       "    </tr>\n",
       "    <tr>\n",
       "      <th>886</th>\n",
       "      <td>887</td>\n",
       "      <td>0</td>\n",
       "      <td>2</td>\n",
       "      <td>Juozas</td>\n",
       "      <td>Montvila</td>\n",
       "      <td>male</td>\n",
       "      <td>27.0</td>\n",
       "      <td>0</td>\n",
       "      <td>0</td>\n",
       "      <td>211536</td>\n",
       "      <td>13.0000</td>\n",
       "      <td>NaN</td>\n",
       "      <td>S</td>\n",
       "    </tr>\n",
       "    <tr>\n",
       "      <th>887</th>\n",
       "      <td>888</td>\n",
       "      <td>1</td>\n",
       "      <td>1</td>\n",
       "      <td>Edith</td>\n",
       "      <td>Graham</td>\n",
       "      <td>female</td>\n",
       "      <td>19.0</td>\n",
       "      <td>0</td>\n",
       "      <td>0</td>\n",
       "      <td>112053</td>\n",
       "      <td>30.0000</td>\n",
       "      <td>B42</td>\n",
       "      <td>S</td>\n",
       "    </tr>\n",
       "    <tr>\n",
       "      <th>888</th>\n",
       "      <td>889</td>\n",
       "      <td>0</td>\n",
       "      <td>3</td>\n",
       "      <td>Carrie</td>\n",
       "      <td>Johnston</td>\n",
       "      <td>female</td>\n",
       "      <td>NaN</td>\n",
       "      <td>1</td>\n",
       "      <td>2</td>\n",
       "      <td>W./C. 6607</td>\n",
       "      <td>23.4500</td>\n",
       "      <td>NaN</td>\n",
       "      <td>S</td>\n",
       "    </tr>\n",
       "    <tr>\n",
       "      <th>889</th>\n",
       "      <td>890</td>\n",
       "      <td>1</td>\n",
       "      <td>1</td>\n",
       "      <td>Howell</td>\n",
       "      <td>Behr</td>\n",
       "      <td>male</td>\n",
       "      <td>26.0</td>\n",
       "      <td>0</td>\n",
       "      <td>0</td>\n",
       "      <td>111369</td>\n",
       "      <td>30.0000</td>\n",
       "      <td>C148</td>\n",
       "      <td>C</td>\n",
       "    </tr>\n",
       "    <tr>\n",
       "      <th>890</th>\n",
       "      <td>891</td>\n",
       "      <td>0</td>\n",
       "      <td>3</td>\n",
       "      <td>Patrick</td>\n",
       "      <td>Dooley</td>\n",
       "      <td>male</td>\n",
       "      <td>32.0</td>\n",
       "      <td>0</td>\n",
       "      <td>0</td>\n",
       "      <td>370376</td>\n",
       "      <td>7.7500</td>\n",
       "      <td>NaN</td>\n",
       "      <td>Q</td>\n",
       "    </tr>\n",
       "  </tbody>\n",
       "</table>\n",
       "<p>891 rows × 13 columns</p>\n",
       "</div>"
      ],
      "text/plain": [
       "     PassengerId  Survived  Pclass First_Name  Last_Name     Sex   Age  SibSp  \\\n",
       "0              1         0       3     Harris     Braund    male  22.0      1   \n",
       "1              2         1       1     Thayer    Cumings  female  38.0      1   \n",
       "2              3         1       3      Laina  Heikkinen  female  26.0      0   \n",
       "3              4         1       1       Peel   Futrelle  female  35.0      1   \n",
       "4              5         0       3      Henry      Allen    male  35.0      0   \n",
       "..           ...       ...     ...        ...        ...     ...   ...    ...   \n",
       "886          887         0       2     Juozas   Montvila    male  27.0      0   \n",
       "887          888         1       1      Edith     Graham  female  19.0      0   \n",
       "888          889         0       3     Carrie   Johnston  female   NaN      1   \n",
       "889          890         1       1     Howell       Behr    male  26.0      0   \n",
       "890          891         0       3    Patrick     Dooley    male  32.0      0   \n",
       "\n",
       "     Parch            Ticket     Fare Cabin Embarked  \n",
       "0        0         A/5 21171   7.2500   NaN        S  \n",
       "1        0          PC 17599  71.2833   C85        C  \n",
       "2        0  STON/O2. 3101282   7.9250   NaN        S  \n",
       "3        0            113803  53.1000  C123        S  \n",
       "4        0            373450   8.0500   NaN        S  \n",
       "..     ...               ...      ...   ...      ...  \n",
       "886      0            211536  13.0000   NaN        S  \n",
       "887      0            112053  30.0000   B42        S  \n",
       "888      2        W./C. 6607  23.4500   NaN        S  \n",
       "889      0            111369  30.0000  C148        C  \n",
       "890      0            370376   7.7500   NaN        Q  \n",
       "\n",
       "[891 rows x 13 columns]"
      ]
     },
     "execution_count": 7,
     "metadata": {},
     "output_type": "execute_result"
    }
   ],
   "source": [
    "# reorders columns of dataframe and drops feature 'Name'\n",
    "titanic_df = titanic_df[['PassengerId', 'Survived', 'Pclass', 'First_Name', 'Last_Name', 'Sex', 'Age', 'SibSp', \n",
    "                         'Parch', 'Ticket', 'Fare', 'Cabin', 'Embarked']]\n",
    "titanic_df"
   ]
  },
  {
   "cell_type": "markdown",
   "id": "ddcfbc9a",
   "metadata": {},
   "source": [
    "It is important to know the primary key, or unique column, of the dataset. It appears PassengerId is the PK; however, let's run the following method on the dataframe to confirm:"
   ]
  },
  {
   "cell_type": "code",
   "execution_count": 8,
   "id": "861d47da",
   "metadata": {},
   "outputs": [
    {
     "data": {
      "text/plain": [
       "True"
      ]
     },
     "execution_count": 8,
     "metadata": {},
     "output_type": "execute_result"
    }
   ],
   "source": [
    "# confirms feature 'PassengerId' is the PK\n",
    "titanic_df['PassengerId'].is_unique"
   ]
  },
  {
   "cell_type": "markdown",
   "id": "ca241439",
   "metadata": {},
   "source": [
    "A data analysis project's main priority should be answering questions about the data. Since we now know the categories within the dataset, let's develop a list of questions that we will attempt to address in the analysis:\n",
    "\n",
    "    1) Who were the passengers on the titanic?\n",
    "    2) What deck were the passengers on, and how does that relate to their class?\n",
    "    3) Where did the passengers embark from?\n",
    "    4) Who was alone on the ship, and who was with family?\n",
    "    5) What features (e.g., deck level) had an impact on a passenger's survival rate? Are there any discernable \n",
    "       relationships or patterns?"
   ]
  },
  {
   "cell_type": "markdown",
   "id": "af18ef3c",
   "metadata": {},
   "source": [
    "# Who were the passengers on the Titanic?"
   ]
  },
  {
   "cell_type": "markdown",
   "id": "2e8148c7",
   "metadata": {},
   "source": [
    "Let's begin with addressing the first question: who were the passengers on the titanic? We will analyze this according to age, gender, class and more..."
   ]
  },
  {
   "cell_type": "code",
   "execution_count": 9,
   "id": "17c0e639",
   "metadata": {},
   "outputs": [],
   "source": [
    "# import tools required for analysis and visualization\n",
    "import numpy as np\n",
    "import matplotlib.pyplot as plt\n",
    "import seaborn as sns"
   ]
  },
  {
   "cell_type": "code",
   "execution_count": 10,
   "id": "97bab719",
   "metadata": {},
   "outputs": [
    {
     "data": {
      "text/html": [
       "<div>\n",
       "<style scoped>\n",
       "    .dataframe tbody tr th:only-of-type {\n",
       "        vertical-align: middle;\n",
       "    }\n",
       "\n",
       "    .dataframe tbody tr th {\n",
       "        vertical-align: top;\n",
       "    }\n",
       "\n",
       "    .dataframe thead th {\n",
       "        text-align: right;\n",
       "    }\n",
       "</style>\n",
       "<table border=\"1\" class=\"dataframe\">\n",
       "  <thead>\n",
       "    <tr style=\"text-align: right;\">\n",
       "      <th></th>\n",
       "      <th>PassengerId</th>\n",
       "      <th>PctOfTotal</th>\n",
       "    </tr>\n",
       "    <tr>\n",
       "      <th>Sex</th>\n",
       "      <th></th>\n",
       "      <th></th>\n",
       "    </tr>\n",
       "  </thead>\n",
       "  <tbody>\n",
       "    <tr>\n",
       "      <th>female</th>\n",
       "      <td>314</td>\n",
       "      <td>0.352413</td>\n",
       "    </tr>\n",
       "    <tr>\n",
       "      <th>male</th>\n",
       "      <td>577</td>\n",
       "      <td>0.647587</td>\n",
       "    </tr>\n",
       "  </tbody>\n",
       "</table>\n",
       "</div>"
      ],
      "text/plain": [
       "        PassengerId  PctOfTotal\n",
       "Sex                            \n",
       "female          314    0.352413\n",
       "male            577    0.647587"
      ]
     },
     "execution_count": 10,
     "metadata": {},
     "output_type": "execute_result"
    }
   ],
   "source": [
    "# aggregates by feature 'Sex' and counts\n",
    "sex_df = titanic_df.groupby('Sex').count()\n",
    "\n",
    "# creates an additional coloumn for the percentage breakdown of male and female passengers\n",
    "sex_df['PctOfTotal'] = sex_df['PassengerId'] / sex_df['PassengerId'].sum()\n",
    "\n",
    "sex_df.loc[:, ['PassengerId','PctOfTotal']]"
   ]
  },
  {
   "cell_type": "markdown",
   "id": "8dece7ed",
   "metadata": {},
   "source": [
    "Viewing the dataframe above, it's apparent that there was nearly double the amount of males as there were females on the Titanic at ~64.5% respectively."
   ]
  },
  {
   "cell_type": "markdown",
   "id": "b7573334",
   "metadata": {},
   "source": [
    "Let's also project this data using a bar graph:"
   ]
  },
  {
   "cell_type": "code",
   "execution_count": 11,
   "id": "151e7edf",
   "metadata": {},
   "outputs": [
    {
     "data": {
      "text/plain": [
       "<seaborn.axisgrid.FacetGrid at 0x289c9792a40>"
      ]
     },
     "execution_count": 11,
     "metadata": {},
     "output_type": "execute_result"
    },
    {
     "data": {
      "image/png": "[encoded data removed]",
      "text/plain": [
       "<Figure size 500x500 with 1 Axes>"
      ]
     },
     "metadata": {},
     "output_type": "display_data"
    }
   ],
   "source": [
    "sns.catplot(data = titanic_df, x = 'Sex', kind = 'count')"
   ]
  },
  {
   "cell_type": "markdown",
   "id": "13c4bf44",
   "metadata": {},
   "source": [
    "Now that we understand the sex breakdown among passengers, let's dig even deeper to understand the the breakdown of ticket classes, 'Pclass', among both sexes."
   ]
  },
  {
   "cell_type": "code",
   "execution_count": 12,
   "id": "0abea6fb",
   "metadata": {},
   "outputs": [
    {
     "data": {
      "text/html": [
       "<div>\n",
       "<style scoped>\n",
       "    .dataframe tbody tr th:only-of-type {\n",
       "        vertical-align: middle;\n",
       "    }\n",
       "\n",
       "    .dataframe tbody tr th {\n",
       "        vertical-align: top;\n",
       "    }\n",
       "\n",
       "    .dataframe thead th {\n",
       "        text-align: right;\n",
       "    }\n",
       "</style>\n",
       "<table border=\"1\" class=\"dataframe\">\n",
       "  <thead>\n",
       "    <tr style=\"text-align: right;\">\n",
       "      <th>Pclass</th>\n",
       "      <th>1</th>\n",
       "      <th>2</th>\n",
       "      <th>3</th>\n",
       "    </tr>\n",
       "    <tr>\n",
       "      <th>Sex</th>\n",
       "      <th></th>\n",
       "      <th></th>\n",
       "      <th></th>\n",
       "    </tr>\n",
       "  </thead>\n",
       "  <tbody>\n",
       "    <tr>\n",
       "      <th>female</th>\n",
       "      <td>94</td>\n",
       "      <td>76</td>\n",
       "      <td>144</td>\n",
       "    </tr>\n",
       "    <tr>\n",
       "      <th>male</th>\n",
       "      <td>122</td>\n",
       "      <td>108</td>\n",
       "      <td>347</td>\n",
       "    </tr>\n",
       "  </tbody>\n",
       "</table>\n",
       "</div>"
      ],
      "text/plain": [
       "Pclass    1    2    3\n",
       "Sex                  \n",
       "female   94   76  144\n",
       "male    122  108  347"
      ]
     },
     "execution_count": 12,
     "metadata": {},
     "output_type": "execute_result"
    }
   ],
   "source": [
    "sex_pclass_df = titanic_df.groupby(['Sex','Pclass'])\n",
    "\n",
    "# creates a dataframe that resembles and pivot table\n",
    "sex_pclass_df['PassengerId'].count().unstack()"
   ]
  },
  {
   "cell_type": "markdown",
   "id": "21b4ca4b",
   "metadata": {},
   "source": [
    "Let's visualize this as well:"
   ]
  },
  {
   "cell_type": "code",
   "execution_count": 13,
   "id": "b884244b",
   "metadata": {},
   "outputs": [
    {
     "data": {
      "text/plain": [
       "<seaborn.axisgrid.FacetGrid at 0x289c9918820>"
      ]
     },
     "execution_count": 13,
     "metadata": {},
     "output_type": "execute_result"
    },
    {
     "data": {
      "image/png": "[encoded data removed]",
      "text/plain": [
       "<Figure size 598x500 with 1 Axes>"
      ]
     },
     "metadata": {},
     "output_type": "display_data"
    }
   ],
   "source": [
    "sns.catplot(data = titanic_df, x = 'Pclass', kind = 'count', hue = 'Sex')"
   ]
  },
  {
   "cell_type": "markdown",
   "id": "fd4c4300",
   "metadata": {},
   "source": [
    "The dataframe and bar chart above both confirm that the majority of passengers (347 total) were male and possessed 3rd class tickets"
   ]
  },
  {
   "cell_type": "markdown",
   "id": "67186c2b",
   "metadata": {},
   "source": [
    "Among the passengers on the Titanic, it could be useful to understand what the separation was between women, men and children. To make this distinction, we will create a helper function that identifies each passenger as a child if he or she is under 16 years old."
   ]
  },
  {
   "cell_type": "code",
   "execution_count": 14,
   "id": "17008a57",
   "metadata": {},
   "outputs": [],
   "source": [
    "# boolean function to determine if a passenger is a child or not\n",
    "def male_female_child(passenger):\n",
    "    age, sex = passenger\n",
    "    if age < 16:\n",
    "        return 'child'\n",
    "    else:\n",
    "        return sex"
   ]
  },
  {
   "cell_type": "code",
   "execution_count": 15,
   "id": "4451a607",
   "metadata": {},
   "outputs": [],
   "source": [
    "# creates a new column 'Person' by applying the helper function above 'male_female_child' to each row\n",
    "titanic_df['Person'] = titanic_df[['Age','Sex']].apply(male_female_child, axis = 1)"
   ]
  },
  {
   "cell_type": "markdown",
   "id": "ad4f9a73",
   "metadata": {},
   "source": [
    "Now, let's take a look at the first 10 rows of the dataframe:"
   ]
  },
  {
   "cell_type": "code",
   "execution_count": 16,
   "id": "82103f39",
   "metadata": {},
   "outputs": [
    {
     "data": {
      "text/html": [
       "<div>\n",
       "<style scoped>\n",
       "    .dataframe tbody tr th:only-of-type {\n",
       "        vertical-align: middle;\n",
       "    }\n",
       "\n",
       "    .dataframe tbody tr th {\n",
       "        vertical-align: top;\n",
       "    }\n",
       "\n",
       "    .dataframe thead th {\n",
       "        text-align: right;\n",
       "    }\n",
       "</style>\n",
       "<table border=\"1\" class=\"dataframe\">\n",
       "  <thead>\n",
       "    <tr style=\"text-align: right;\">\n",
       "      <th></th>\n",
       "      <th>PassengerId</th>\n",
       "      <th>Survived</th>\n",
       "      <th>Pclass</th>\n",
       "      <th>First_Name</th>\n",
       "      <th>Last_Name</th>\n",
       "      <th>Sex</th>\n",
       "      <th>Age</th>\n",
       "      <th>SibSp</th>\n",
       "      <th>Parch</th>\n",
       "      <th>Ticket</th>\n",
       "      <th>Fare</th>\n",
       "      <th>Cabin</th>\n",
       "      <th>Embarked</th>\n",
       "      <th>Person</th>\n",
       "    </tr>\n",
       "  </thead>\n",
       "  <tbody>\n",
       "    <tr>\n",
       "      <th>0</th>\n",
       "      <td>1</td>\n",
       "      <td>0</td>\n",
       "      <td>3</td>\n",
       "      <td>Harris</td>\n",
       "      <td>Braund</td>\n",
       "      <td>male</td>\n",
       "      <td>22.0</td>\n",
       "      <td>1</td>\n",
       "      <td>0</td>\n",
       "      <td>A/5 21171</td>\n",
       "      <td>7.2500</td>\n",
       "      <td>NaN</td>\n",
       "      <td>S</td>\n",
       "      <td>male</td>\n",
       "    </tr>\n",
       "    <tr>\n",
       "      <th>1</th>\n",
       "      <td>2</td>\n",
       "      <td>1</td>\n",
       "      <td>1</td>\n",
       "      <td>Thayer</td>\n",
       "      <td>Cumings</td>\n",
       "      <td>female</td>\n",
       "      <td>38.0</td>\n",
       "      <td>1</td>\n",
       "      <td>0</td>\n",
       "      <td>PC 17599</td>\n",
       "      <td>71.2833</td>\n",
       "      <td>C85</td>\n",
       "      <td>C</td>\n",
       "      <td>female</td>\n",
       "    </tr>\n",
       "    <tr>\n",
       "      <th>2</th>\n",
       "      <td>3</td>\n",
       "      <td>1</td>\n",
       "      <td>3</td>\n",
       "      <td>Laina</td>\n",
       "      <td>Heikkinen</td>\n",
       "      <td>female</td>\n",
       "      <td>26.0</td>\n",
       "      <td>0</td>\n",
       "      <td>0</td>\n",
       "      <td>STON/O2. 3101282</td>\n",
       "      <td>7.9250</td>\n",
       "      <td>NaN</td>\n",
       "      <td>S</td>\n",
       "      <td>female</td>\n",
       "    </tr>\n",
       "    <tr>\n",
       "      <th>3</th>\n",
       "      <td>4</td>\n",
       "      <td>1</td>\n",
       "      <td>1</td>\n",
       "      <td>Peel</td>\n",
       "      <td>Futrelle</td>\n",
       "      <td>female</td>\n",
       "      <td>35.0</td>\n",
       "      <td>1</td>\n",
       "      <td>0</td>\n",
       "      <td>113803</td>\n",
       "      <td>53.1000</td>\n",
       "      <td>C123</td>\n",
       "      <td>S</td>\n",
       "      <td>female</td>\n",
       "    </tr>\n",
       "    <tr>\n",
       "      <th>4</th>\n",
       "      <td>5</td>\n",
       "      <td>0</td>\n",
       "      <td>3</td>\n",
       "      <td>Henry</td>\n",
       "      <td>Allen</td>\n",
       "      <td>male</td>\n",
       "      <td>35.0</td>\n",
       "      <td>0</td>\n",
       "      <td>0</td>\n",
       "      <td>373450</td>\n",
       "      <td>8.0500</td>\n",
       "      <td>NaN</td>\n",
       "      <td>S</td>\n",
       "      <td>male</td>\n",
       "    </tr>\n",
       "    <tr>\n",
       "      <th>5</th>\n",
       "      <td>6</td>\n",
       "      <td>0</td>\n",
       "      <td>3</td>\n",
       "      <td>James</td>\n",
       "      <td>Moran</td>\n",
       "      <td>male</td>\n",
       "      <td>NaN</td>\n",
       "      <td>0</td>\n",
       "      <td>0</td>\n",
       "      <td>330877</td>\n",
       "      <td>8.4583</td>\n",
       "      <td>NaN</td>\n",
       "      <td>Q</td>\n",
       "      <td>male</td>\n",
       "    </tr>\n",
       "    <tr>\n",
       "      <th>6</th>\n",
       "      <td>7</td>\n",
       "      <td>0</td>\n",
       "      <td>1</td>\n",
       "      <td>J</td>\n",
       "      <td>McCarthy</td>\n",
       "      <td>male</td>\n",
       "      <td>54.0</td>\n",
       "      <td>0</td>\n",
       "      <td>0</td>\n",
       "      <td>17463</td>\n",
       "      <td>51.8625</td>\n",
       "      <td>E46</td>\n",
       "      <td>S</td>\n",
       "      <td>male</td>\n",
       "    </tr>\n",
       "    <tr>\n",
       "      <th>7</th>\n",
       "      <td>8</td>\n",
       "      <td>0</td>\n",
       "      <td>3</td>\n",
       "      <td>Leonard</td>\n",
       "      <td>Palsson</td>\n",
       "      <td>male</td>\n",
       "      <td>2.0</td>\n",
       "      <td>3</td>\n",
       "      <td>1</td>\n",
       "      <td>349909</td>\n",
       "      <td>21.0750</td>\n",
       "      <td>NaN</td>\n",
       "      <td>S</td>\n",
       "      <td>child</td>\n",
       "    </tr>\n",
       "    <tr>\n",
       "      <th>8</th>\n",
       "      <td>9</td>\n",
       "      <td>1</td>\n",
       "      <td>3</td>\n",
       "      <td>Berg</td>\n",
       "      <td>Johnson</td>\n",
       "      <td>female</td>\n",
       "      <td>27.0</td>\n",
       "      <td>0</td>\n",
       "      <td>2</td>\n",
       "      <td>347742</td>\n",
       "      <td>11.1333</td>\n",
       "      <td>NaN</td>\n",
       "      <td>S</td>\n",
       "      <td>female</td>\n",
       "    </tr>\n",
       "    <tr>\n",
       "      <th>9</th>\n",
       "      <td>10</td>\n",
       "      <td>1</td>\n",
       "      <td>2</td>\n",
       "      <td>Achem</td>\n",
       "      <td>Nasser</td>\n",
       "      <td>female</td>\n",
       "      <td>14.0</td>\n",
       "      <td>1</td>\n",
       "      <td>0</td>\n",
       "      <td>237736</td>\n",
       "      <td>30.0708</td>\n",
       "      <td>NaN</td>\n",
       "      <td>C</td>\n",
       "      <td>child</td>\n",
       "    </tr>\n",
       "  </tbody>\n",
       "</table>\n",
       "</div>"
      ],
      "text/plain": [
       "   PassengerId  Survived  Pclass First_Name  Last_Name     Sex   Age  SibSp  \\\n",
       "0            1         0       3     Harris     Braund    male  22.0      1   \n",
       "1            2         1       1     Thayer    Cumings  female  38.0      1   \n",
       "2            3         1       3      Laina  Heikkinen  female  26.0      0   \n",
       "3            4         1       1       Peel   Futrelle  female  35.0      1   \n",
       "4            5         0       3      Henry      Allen    male  35.0      0   \n",
       "5            6         0       3      James      Moran    male   NaN      0   \n",
       "6            7         0       1          J   McCarthy    male  54.0      0   \n",
       "7            8         0       3    Leonard    Palsson    male   2.0      3   \n",
       "8            9         1       3       Berg    Johnson  female  27.0      0   \n",
       "9           10         1       2      Achem     Nasser  female  14.0      1   \n",
       "\n",
       "   Parch            Ticket     Fare Cabin Embarked  Person  \n",
       "0      0         A/5 21171   7.2500   NaN        S    male  \n",
       "1      0          PC 17599  71.2833   C85        C  female  \n",
       "2      0  STON/O2. 3101282   7.9250   NaN        S  female  \n",
       "3      0            113803  53.1000  C123        S  female  \n",
       "4      0            373450   8.0500   NaN        S    male  \n",
       "5      0            330877   8.4583   NaN        Q    male  \n",
       "6      0             17463  51.8625   E46        S    male  \n",
       "7      1            349909  21.0750   NaN        S   child  \n",
       "8      2            347742  11.1333   NaN        S  female  \n",
       "9      0            237736  30.0708   NaN        C   child  "
      ]
     },
     "execution_count": 16,
     "metadata": {},
     "output_type": "execute_result"
    }
   ],
   "source": [
    "titanic_df.head(10)"
   ]
  },
  {
   "cell_type": "markdown",
   "id": "cd1105de",
   "metadata": {},
   "source": [
    "Viewing the final column, it's apparent that the helper function distinguished which passengers are children versus adults. Using the new column, let's aggregate the three distinctions to understand the population on the ship:"
   ]
  },
  {
   "cell_type": "code",
   "execution_count": 17,
   "id": "0259a5e9",
   "metadata": {},
   "outputs": [
    {
     "data": {
      "text/plain": [
       "Person\n",
       "child      83\n",
       "female    271\n",
       "male      537\n",
       "Name: PassengerId, dtype: int64"
      ]
     },
     "execution_count": 17,
     "metadata": {},
     "output_type": "execute_result"
    }
   ],
   "source": [
    "# creates an aggregate pandas object by grouping by the new feature 'Person'\n",
    "person_group = titanic_df['PassengerId'].groupby(titanic_df['Person'])\n",
    "\n",
    "# returns count of 'Person' using the above pandas object \n",
    "person_group.count()"
   ]
  },
  {
   "cell_type": "markdown",
   "id": "64f2deeb",
   "metadata": {},
   "source": [
    "Like before, let's also generate a grouped bar graph to see this data visually:"
   ]
  },
  {
   "cell_type": "code",
   "execution_count": 18,
   "id": "29933a26",
   "metadata": {},
   "outputs": [
    {
     "data": {
      "text/plain": [
       "<seaborn.axisgrid.FacetGrid at 0x289cba2a800>"
      ]
     },
     "execution_count": 18,
     "metadata": {},
     "output_type": "execute_result"
    },
    {
     "data": {
      "image/png": "[encoded data removed]",
      "text/plain": [
       "<Figure size 598x500 with 1 Axes>"
      ]
     },
     "metadata": {},
     "output_type": "display_data"
    }
   ],
   "source": [
    "sns.catplot(data = titanic_df, x = 'Pclass', kind = 'count', hue = 'Person')"
   ]
  },
  {
   "cell_type": "markdown",
   "id": "98a0af01",
   "metadata": {},
   "source": [
    "The bar chart above shows that a majority of the Titanic's passengers were male with the largest percentage of them representing the 3rd class on the ship. Additionally, it shows that the majority of children on the ship were in third class."
   ]
  },
  {
   "cell_type": "markdown",
   "id": "d5c3640b",
   "metadata": {},
   "source": [
    "Now, let's get an idea on the age breakdown of the passengers on board. We'll create a dataframe with passengers separated by the age range they fall within. Before creating our bins, let's gather some general information on the Titanic's passengers:"
   ]
  },
  {
   "cell_type": "code",
   "execution_count": 19,
   "id": "1812b24e",
   "metadata": {},
   "outputs": [
    {
     "name": "stdout",
     "output_type": "stream",
     "text": [
      "Age of Oldest Passenger: 80.0\n",
      "Age of Youngest Passenger: 0.42\n",
      "Average Age of Passenger: 29.7\n"
     ]
    }
   ],
   "source": [
    "# determines the maximum, minimum, and average age of the 'Age' feature\n",
    "print('Age of Oldest Passenger: ' + str(titanic_df['Age'].max()) + '\\n' +\n",
    "     'Age of Youngest Passenger: ' + str(titanic_df['Age'].min()) + '\\n' +\n",
    "    'Average Age of Passenger: ' + str(round(titanic_df['Age'].mean(), ndigits = 2)))"
   ]
  },
  {
   "cell_type": "code",
   "execution_count": 20,
   "id": "ded3c2f1",
   "metadata": {},
   "outputs": [
    {
     "data": {
      "text/plain": [
       "(-0.001, 20.0]    179\n",
       "(20.0, 40.0]      385\n",
       "(40.0, 60.0]      128\n",
       "(60.0, 80.0]       22\n",
       "Name: Age, dtype: int64"
      ]
     },
     "execution_count": 20,
     "metadata": {},
     "output_type": "execute_result"
    }
   ],
   "source": [
    "# creates list that will be used for the bins argument in the following dataframe method\n",
    "age_ranges = [0,20,40,60,80]\n",
    "\n",
    "# returns count of passengers within each age range/bin\n",
    "titanic_df['Age'].value_counts(bins = age_ranges, sort = False)"
   ]
  },
  {
   "cell_type": "markdown",
   "id": "8e54f918",
   "metadata": {},
   "source": [
    "Viewing the two lines above, it's evident that the youngest passenger on the boat was under one year old, and the oldest was exactly 80 years old. Furthermore, the majority of passengers were between 20 and 40 years old on the ship at 385 passengers or ~53.9%."
   ]
  },
  {
   "cell_type": "markdown",
   "id": "51c64099",
   "metadata": {},
   "source": [
    "It would also be useful to see the distribution of passenger ages on the Titanic. We'll generate this distribution by creating a histogram. I'll utilize Matplotlib this time instead of Seaborn."
   ]
  },
  {
   "cell_type": "code",
   "execution_count": 21,
   "id": "664a4f1f",
   "metadata": {},
   "outputs": [
    {
     "data": {
      "text/plain": [
       "Text(0, 0.5, 'Count of Passengers')"
      ]
     },
     "execution_count": 21,
     "metadata": {},
     "output_type": "execute_result"
    },
    {
     "data": {
      "image/png": "[encoded data removed]",
      "text/plain": [
       "<Figure size 640x480 with 1 Axes>"
      ]
     },
     "metadata": {},
     "output_type": "display_data"
    }
   ],
   "source": [
    "titanic_df['Age'].hist(bins = 20)\n",
    "plt.title('Passenger Age Distribution on Titanic')\n",
    "plt.xlabel('Age')\n",
    "plt.ylabel('Count of Passengers')"
   ]
  },
  {
   "cell_type": "markdown",
   "id": "3a469398",
   "metadata": {},
   "source": [
    "The histogram above validates the conclusion made prior: the majority of passengers on the Titanic were between the ages of 20 and 40."
   ]
  },
  {
   "cell_type": "markdown",
   "id": "bbcdbd5a",
   "metadata": {},
   "source": [
    "Using the dataset, let's now create a couple area charts using Seaborn's FacetGrid. We'll first create a FacetGrid using 'Person' as the legend then 'Pclass'."
   ]
  },
  {
   "cell_type": "code",
   "execution_count": 22,
   "id": "7c05af9a",
   "metadata": {},
   "outputs": [
    {
     "data": {
      "text/plain": [
       "<seaborn.axisgrid.FacetGrid at 0x289cbd31840>"
      ]
     },
     "execution_count": 22,
     "metadata": {},
     "output_type": "execute_result"
    },
    {
     "data": {
      "image/png": "[encoded data removed]",
      "text/plain": [
       "<Figure size 1298x300 with 1 Axes>"
      ]
     },
     "metadata": {},
     "output_type": "display_data"
    }
   ],
   "source": [
    "fig = sns.FacetGrid(data = titanic_df, hue = 'Person', aspect = 4)\n",
    "fig.map(sns.kdeplot, 'Age', fill = True)\n",
    "oldest = titanic_df['Age'].max()\n",
    "fig.set(xlim = (0, oldest))\n",
    "fig.add_legend()"
   ]
  },
  {
   "cell_type": "code",
   "execution_count": 23,
   "id": "ac3cda03",
   "metadata": {},
   "outputs": [
    {
     "data": {
      "text/plain": [
       "<seaborn.axisgrid.FacetGrid at 0x289cbdfbbe0>"
      ]
     },
     "execution_count": 23,
     "metadata": {},
     "output_type": "execute_result"
    },
    {
     "data": {
      "image/png": "[encoded data removed]",
      "text/plain": [
       "<Figure size 1258.88x300 with 1 Axes>"
      ]
     },
     "metadata": {},
     "output_type": "display_data"
    }
   ],
   "source": [
    "fig = sns.FacetGrid(data = titanic_df, hue = 'Pclass', aspect = 4)\n",
    "fig.map(sns.kdeplot, 'Age', fill = True)\n",
    "oldest = titanic_df['Age'].max()\n",
    "fig.set(xlim = (0, oldest))\n",
    "fig.add_legend()"
   ]
  },
  {
   "cell_type": "markdown",
   "id": "da0e61f7",
   "metadata": {},
   "source": [
    "Both chart above provide the same information as before, but in a more design friendly fashion."
   ]
  },
  {
   "cell_type": "markdown",
   "id": "cdce6f20",
   "metadata": {},
   "source": [
    "By analyzing the passengers on the Titanic, we can conclude the following:\n",
    "    \n",
    "       1) On the ship, there was nearly double the amount of males as there were females at ~64.5% \n",
    "       respectively. This breakdown is likely a sign of the times: in early 20th century, men exercised greater social, \n",
    "       economic, and political freedom than women. From a political standpoint, the U.S. did not grant women the right to \n",
    "       vote until 1920, almost a decade after the Titanic disaster.\n",
    "       \n",
    "       2) A majority of passengers were 3rd class ticket holders at 491. A little over 70% of these ticket holders were \n",
    "       male. By offering more 3rd class tickets, the Titanic's owners were able to generate greater revenue. Economies of \n",
    "       scale is clearly evident here.\n",
    "       \n",
    "       3) A majority of passengers were between 20 and 40 years old on the ship at 385 passengers or ~53.9%. This is likely \n",
    "       due to the physical demands placed on individuals during travel - adventurous trips tend to attract young and \n",
    "       healthy individuals free of ailments experienced in older age."
   ]
  },
  {
   "cell_type": "markdown",
   "id": "bbbf8e2f",
   "metadata": {},
   "source": [
    "# What deck were passengers on, and how does this relate to their class?"
   ]
  },
  {
   "cell_type": "markdown",
   "id": "f82a0556",
   "metadata": {},
   "source": [
    "We have analyzed who the passengers were on the Titanic. Now, let's try to better understand where passengers were located on the ship. I'll also look to find a connection between deck level and class.\n",
    "\n",
    "To start, we need to remove the NaN values from the feature, 'Cabin', after which we will generate a graphic. Note, decks represent different levels on the ship. On the Titanic, there were 10 levels represented alphabetically with 'A' representing highest level and 'G' representing the bottom level."
   ]
  },
  {
   "cell_type": "code",
   "execution_count": 24,
   "id": "391c784e",
   "metadata": {},
   "outputs": [],
   "source": [
    "# removes NaN values from the feautre 'Cabin'\n",
    "deck = titanic_df['Cabin'].dropna()"
   ]
  },
  {
   "cell_type": "code",
   "execution_count": 25,
   "id": "94efb3a0",
   "metadata": {},
   "outputs": [
    {
     "data": {
      "text/plain": [
       "<seaborn.axisgrid.FacetGrid at 0x289cc00b670>"
      ]
     },
     "execution_count": 25,
     "metadata": {},
     "output_type": "execute_result"
    },
    {
     "data": {
      "image/png": "[encoded data removed]",
      "text/plain": [
       "<Figure size 500x500 with 1 Axes>"
      ]
     },
     "metadata": {},
     "output_type": "display_data"
    }
   ],
   "source": [
    "# appends the first alphanumeric character in the series 'Cabin' to the list 'deck_level' (e.g.; C24 --> C)\n",
    "deck_level = []\n",
    "for level in deck:\n",
    "    deck_level.append(level[0])\n",
    "\n",
    "# creates a dataframe of the deck_level\n",
    "cabin_df = pd.DataFrame(data = deck_level)\n",
    "\n",
    "# names the single column of the dframe as 'Cabin'\n",
    "cabin_df.columns = ['Cabin']\n",
    "\n",
    "sns.catplot(data = cabin_df, x = 'Cabin', kind = 'count', palette = 'winter_d')"
   ]
  },
  {
   "cell_type": "markdown",
   "id": "f4226e20",
   "metadata": {},
   "source": [
    "The visual above is useful, but it could use some improvements. Let's remove the cabin level 'T' as this is an error in the data. Next, let's order the bars alphabetically, so it is easier to visualize the density of the ship from top to bottom."
   ]
  },
  {
   "cell_type": "code",
   "execution_count": 26,
   "id": "6a31fb5f",
   "metadata": {},
   "outputs": [],
   "source": [
    "# generates a boolean series on whether each row equals 'T'\n",
    "cabin_T = cabin_df['Cabin'] == 'T'\n",
    "\n",
    "# removes 'T' cabin levels from the dframe via boolean indexing\n",
    "cabin_df = cabin_df[cabin_T == False]\n",
    "\n",
    "# aggregates cabin levels, takes count of level, and sorts index in ascending order\n",
    "result = cabin_df.groupby('Cabin')['Cabin'].count().sort_index()"
   ]
  },
  {
   "cell_type": "code",
   "execution_count": 27,
   "id": "0db5e810",
   "metadata": {},
   "outputs": [
    {
     "data": {
      "text/plain": [
       "Text(0.5, 1.0, 'Number of Titanic Passengers on Each Level of the Ship')"
      ]
     },
     "execution_count": 27,
     "metadata": {},
     "output_type": "execute_result"
    },
    {
     "data": {
      "image/png": "[encoded data removed]",
      "text/plain": [
       "<Figure size 640x480 with 1 Axes>"
      ]
     },
     "metadata": {},
     "output_type": "display_data"
    }
   ],
   "source": [
    "plt.bar(x = result.index, height = result.values, label = ['A','B','C','D','E','F','G'])\n",
    "plt.xlabel('Cabin Level')\n",
    "plt.ylabel('Count of Passengers')\n",
    "plt.title('Number of Titanic Passengers on Each Level of the Ship')"
   ]
  },
  {
   "cell_type": "markdown",
   "id": "9fe74031",
   "metadata": {},
   "source": [
    "Based on the graphic above, it appears a majority of the passengers were staying in the uppder-middle portion of the ship. This likely was due to the design of the ship's hull."
   ]
  },
  {
   "cell_type": "markdown",
   "id": "aa2ed858",
   "metadata": {},
   "source": [
    "Let's create a dataframe of the percentage breakdown among all the levels based on the chart above. I'll first create a column of cabin levels to add to the existing 'titanic_df' dataframe for later analysis. Using this new column, I'll aggregate the levels, calculate the count of passengers at each level, and create an additional column for the percentage of total."
   ]
  },
  {
   "cell_type": "code",
   "execution_count": 28,
   "id": "0fc2b6d3",
   "metadata": {},
   "outputs": [],
   "source": [
    "# function that will be applied to titanic_df to create column of alphabetic levels\n",
    "def cabin_level(cabin):\n",
    "        if pd.isnull(cabin) or cabin.startswith('T'):\n",
    "            return None\n",
    "        else:\n",
    "            return cabin[0]\n",
    "\n",
    "# applies above function 'cabin_level' and generates new column\n",
    "titanic_df['Deck_Level'] = titanic_df['Cabin'].apply(cabin_level)"
   ]
  },
  {
   "cell_type": "markdown",
   "id": "81339f6b",
   "metadata": {},
   "source": [
    "If we return a slice of the dataframe, you can see the new column 'Deck_Level' has been generated successfully:"
   ]
  },
  {
   "cell_type": "code",
   "execution_count": 29,
   "id": "088dc3b7",
   "metadata": {},
   "outputs": [
    {
     "data": {
      "text/html": [
       "<div>\n",
       "<style scoped>\n",
       "    .dataframe tbody tr th:only-of-type {\n",
       "        vertical-align: middle;\n",
       "    }\n",
       "\n",
       "    .dataframe tbody tr th {\n",
       "        vertical-align: top;\n",
       "    }\n",
       "\n",
       "    .dataframe thead th {\n",
       "        text-align: right;\n",
       "    }\n",
       "</style>\n",
       "<table border=\"1\" class=\"dataframe\">\n",
       "  <thead>\n",
       "    <tr style=\"text-align: right;\">\n",
       "      <th></th>\n",
       "      <th>Cabin</th>\n",
       "      <th>Deck_Level</th>\n",
       "    </tr>\n",
       "  </thead>\n",
       "  <tbody>\n",
       "    <tr>\n",
       "      <th>0</th>\n",
       "      <td>NaN</td>\n",
       "      <td>None</td>\n",
       "    </tr>\n",
       "    <tr>\n",
       "      <th>1</th>\n",
       "      <td>C85</td>\n",
       "      <td>C</td>\n",
       "    </tr>\n",
       "    <tr>\n",
       "      <th>2</th>\n",
       "      <td>NaN</td>\n",
       "      <td>None</td>\n",
       "    </tr>\n",
       "    <tr>\n",
       "      <th>3</th>\n",
       "      <td>C123</td>\n",
       "      <td>C</td>\n",
       "    </tr>\n",
       "    <tr>\n",
       "      <th>4</th>\n",
       "      <td>NaN</td>\n",
       "      <td>None</td>\n",
       "    </tr>\n",
       "    <tr>\n",
       "      <th>5</th>\n",
       "      <td>NaN</td>\n",
       "      <td>None</td>\n",
       "    </tr>\n",
       "    <tr>\n",
       "      <th>6</th>\n",
       "      <td>E46</td>\n",
       "      <td>E</td>\n",
       "    </tr>\n",
       "    <tr>\n",
       "      <th>7</th>\n",
       "      <td>NaN</td>\n",
       "      <td>None</td>\n",
       "    </tr>\n",
       "    <tr>\n",
       "      <th>8</th>\n",
       "      <td>NaN</td>\n",
       "      <td>None</td>\n",
       "    </tr>\n",
       "    <tr>\n",
       "      <th>9</th>\n",
       "      <td>NaN</td>\n",
       "      <td>None</td>\n",
       "    </tr>\n",
       "  </tbody>\n",
       "</table>\n",
       "</div>"
      ],
      "text/plain": [
       "  Cabin Deck_Level\n",
       "0   NaN       None\n",
       "1   C85          C\n",
       "2   NaN       None\n",
       "3  C123          C\n",
       "4   NaN       None\n",
       "5   NaN       None\n",
       "6   E46          E\n",
       "7   NaN       None\n",
       "8   NaN       None\n",
       "9   NaN       None"
      ]
     },
     "execution_count": 29,
     "metadata": {},
     "output_type": "execute_result"
    }
   ],
   "source": [
    "titanic_df[['Cabin','Deck_Level']].head(10)"
   ]
  },
  {
   "cell_type": "code",
   "execution_count": 30,
   "id": "5788ac8f",
   "metadata": {},
   "outputs": [
    {
     "data": {
      "text/html": [
       "<div>\n",
       "<style scoped>\n",
       "    .dataframe tbody tr th:only-of-type {\n",
       "        vertical-align: middle;\n",
       "    }\n",
       "\n",
       "    .dataframe tbody tr th {\n",
       "        vertical-align: top;\n",
       "    }\n",
       "\n",
       "    .dataframe thead th {\n",
       "        text-align: right;\n",
       "    }\n",
       "</style>\n",
       "<table border=\"1\" class=\"dataframe\">\n",
       "  <thead>\n",
       "    <tr style=\"text-align: right;\">\n",
       "      <th></th>\n",
       "      <th>CountOfPassengers</th>\n",
       "      <th>Pct</th>\n",
       "    </tr>\n",
       "    <tr>\n",
       "      <th>Deck_Level</th>\n",
       "      <th></th>\n",
       "      <th></th>\n",
       "    </tr>\n",
       "  </thead>\n",
       "  <tbody>\n",
       "    <tr>\n",
       "      <th>A</th>\n",
       "      <td>15</td>\n",
       "      <td>0.073892</td>\n",
       "    </tr>\n",
       "    <tr>\n",
       "      <th>B</th>\n",
       "      <td>47</td>\n",
       "      <td>0.231527</td>\n",
       "    </tr>\n",
       "    <tr>\n",
       "      <th>C</th>\n",
       "      <td>59</td>\n",
       "      <td>0.290640</td>\n",
       "    </tr>\n",
       "    <tr>\n",
       "      <th>D</th>\n",
       "      <td>33</td>\n",
       "      <td>0.162562</td>\n",
       "    </tr>\n",
       "    <tr>\n",
       "      <th>E</th>\n",
       "      <td>32</td>\n",
       "      <td>0.157635</td>\n",
       "    </tr>\n",
       "    <tr>\n",
       "      <th>F</th>\n",
       "      <td>13</td>\n",
       "      <td>0.064039</td>\n",
       "    </tr>\n",
       "    <tr>\n",
       "      <th>G</th>\n",
       "      <td>4</td>\n",
       "      <td>0.019704</td>\n",
       "    </tr>\n",
       "  </tbody>\n",
       "</table>\n",
       "</div>"
      ],
      "text/plain": [
       "            CountOfPassengers       Pct\n",
       "Deck_Level                             \n",
       "A                          15  0.073892\n",
       "B                          47  0.231527\n",
       "C                          59  0.290640\n",
       "D                          33  0.162562\n",
       "E                          32  0.157635\n",
       "F                          13  0.064039\n",
       "G                           4  0.019704"
      ]
     },
     "execution_count": 30,
     "metadata": {},
     "output_type": "execute_result"
    }
   ],
   "source": [
    "deck_pct = titanic_df.groupby('Deck_Level').count()\n",
    "deck_pct['Pct'] = deck_pct['PassengerId'] / deck_pct['PassengerId'].sum()\n",
    "deck_pct = deck_pct.rename(columns = {'PassengerId':'CountOfPassengers'})\n",
    "deck_pct[['CountOfPassengers','Pct']]"
   ]
  },
  {
   "cell_type": "markdown",
   "id": "55b31a85",
   "metadata": {},
   "source": [
    "Based on the dataframe above, roughly ~68% (139) passengers were staying in cabins B, C, and D, with cabin C housing the most at ~29%. Only 4 passengers were staying on level G; this is likely due to the fact that level G housed both the cargo and boiler room."
   ]
  },
  {
   "cell_type": "markdown",
   "id": "3377df8a",
   "metadata": {},
   "source": [
    "# Where did the passengers embark from?"
   ]
  },
  {
   "cell_type": "markdown",
   "id": "6f4eb7ad",
   "metadata": {},
   "source": [
    "Now, let's determine where the passengers came from. We can determine this using the feature 'Embarked'. According to the data dictionary, 'S' represents 'Southhampton', 'C' represents 'Chersbourg', and 'Q' represents 'Queenstown'. Before creating any visualizations, let's replace each value with the full name since it may not be fully evident what the letters represent."
   ]
  },
  {
   "cell_type": "code",
   "execution_count": 31,
   "id": "710706bc",
   "metadata": {},
   "outputs": [],
   "source": [
    "def full_city(embarked):\n",
    "    if embarked == 'Q':\n",
    "        return 'Queenstown'\n",
    "    elif embarked == 'C':\n",
    "        return 'Chersbourg'\n",
    "    elif embarked == 'S':\n",
    "        return 'Southhampton'\n",
    "    \n",
    "titanic_df['EmbarkedCity'] = titanic_df['Embarked'].apply(full_city)"
   ]
  },
  {
   "cell_type": "markdown",
   "id": "9256ae39",
   "metadata": {},
   "source": [
    "Let's view the dataframe to ensure the column was created correctly:"
   ]
  },
  {
   "cell_type": "code",
   "execution_count": 32,
   "id": "3cb8b411",
   "metadata": {},
   "outputs": [
    {
     "data": {
      "text/html": [
       "<div>\n",
       "<style scoped>\n",
       "    .dataframe tbody tr th:only-of-type {\n",
       "        vertical-align: middle;\n",
       "    }\n",
       "\n",
       "    .dataframe tbody tr th {\n",
       "        vertical-align: top;\n",
       "    }\n",
       "\n",
       "    .dataframe thead th {\n",
       "        text-align: right;\n",
       "    }\n",
       "</style>\n",
       "<table border=\"1\" class=\"dataframe\">\n",
       "  <thead>\n",
       "    <tr style=\"text-align: right;\">\n",
       "      <th></th>\n",
       "      <th>PassengerId</th>\n",
       "      <th>Survived</th>\n",
       "      <th>Pclass</th>\n",
       "      <th>First_Name</th>\n",
       "      <th>Last_Name</th>\n",
       "      <th>Sex</th>\n",
       "      <th>Age</th>\n",
       "      <th>SibSp</th>\n",
       "      <th>Parch</th>\n",
       "      <th>Ticket</th>\n",
       "      <th>Fare</th>\n",
       "      <th>Cabin</th>\n",
       "      <th>Embarked</th>\n",
       "      <th>Person</th>\n",
       "      <th>Deck_Level</th>\n",
       "      <th>EmbarkedCity</th>\n",
       "    </tr>\n",
       "  </thead>\n",
       "  <tbody>\n",
       "    <tr>\n",
       "      <th>0</th>\n",
       "      <td>1</td>\n",
       "      <td>0</td>\n",
       "      <td>3</td>\n",
       "      <td>Harris</td>\n",
       "      <td>Braund</td>\n",
       "      <td>male</td>\n",
       "      <td>22.0</td>\n",
       "      <td>1</td>\n",
       "      <td>0</td>\n",
       "      <td>A/5 21171</td>\n",
       "      <td>7.2500</td>\n",
       "      <td>NaN</td>\n",
       "      <td>S</td>\n",
       "      <td>male</td>\n",
       "      <td>None</td>\n",
       "      <td>Southhampton</td>\n",
       "    </tr>\n",
       "    <tr>\n",
       "      <th>1</th>\n",
       "      <td>2</td>\n",
       "      <td>1</td>\n",
       "      <td>1</td>\n",
       "      <td>Thayer</td>\n",
       "      <td>Cumings</td>\n",
       "      <td>female</td>\n",
       "      <td>38.0</td>\n",
       "      <td>1</td>\n",
       "      <td>0</td>\n",
       "      <td>PC 17599</td>\n",
       "      <td>71.2833</td>\n",
       "      <td>C85</td>\n",
       "      <td>C</td>\n",
       "      <td>female</td>\n",
       "      <td>C</td>\n",
       "      <td>Chersbourg</td>\n",
       "    </tr>\n",
       "    <tr>\n",
       "      <th>2</th>\n",
       "      <td>3</td>\n",
       "      <td>1</td>\n",
       "      <td>3</td>\n",
       "      <td>Laina</td>\n",
       "      <td>Heikkinen</td>\n",
       "      <td>female</td>\n",
       "      <td>26.0</td>\n",
       "      <td>0</td>\n",
       "      <td>0</td>\n",
       "      <td>STON/O2. 3101282</td>\n",
       "      <td>7.9250</td>\n",
       "      <td>NaN</td>\n",
       "      <td>S</td>\n",
       "      <td>female</td>\n",
       "      <td>None</td>\n",
       "      <td>Southhampton</td>\n",
       "    </tr>\n",
       "    <tr>\n",
       "      <th>3</th>\n",
       "      <td>4</td>\n",
       "      <td>1</td>\n",
       "      <td>1</td>\n",
       "      <td>Peel</td>\n",
       "      <td>Futrelle</td>\n",
       "      <td>female</td>\n",
       "      <td>35.0</td>\n",
       "      <td>1</td>\n",
       "      <td>0</td>\n",
       "      <td>113803</td>\n",
       "      <td>53.1000</td>\n",
       "      <td>C123</td>\n",
       "      <td>S</td>\n",
       "      <td>female</td>\n",
       "      <td>C</td>\n",
       "      <td>Southhampton</td>\n",
       "    </tr>\n",
       "    <tr>\n",
       "      <th>4</th>\n",
       "      <td>5</td>\n",
       "      <td>0</td>\n",
       "      <td>3</td>\n",
       "      <td>Henry</td>\n",
       "      <td>Allen</td>\n",
       "      <td>male</td>\n",
       "      <td>35.0</td>\n",
       "      <td>0</td>\n",
       "      <td>0</td>\n",
       "      <td>373450</td>\n",
       "      <td>8.0500</td>\n",
       "      <td>NaN</td>\n",
       "      <td>S</td>\n",
       "      <td>male</td>\n",
       "      <td>None</td>\n",
       "      <td>Southhampton</td>\n",
       "    </tr>\n",
       "  </tbody>\n",
       "</table>\n",
       "</div>"
      ],
      "text/plain": [
       "   PassengerId  Survived  Pclass First_Name  Last_Name     Sex   Age  SibSp  \\\n",
       "0            1         0       3     Harris     Braund    male  22.0      1   \n",
       "1            2         1       1     Thayer    Cumings  female  38.0      1   \n",
       "2            3         1       3      Laina  Heikkinen  female  26.0      0   \n",
       "3            4         1       1       Peel   Futrelle  female  35.0      1   \n",
       "4            5         0       3      Henry      Allen    male  35.0      0   \n",
       "\n",
       "   Parch            Ticket     Fare Cabin Embarked  Person Deck_Level  \\\n",
       "0      0         A/5 21171   7.2500   NaN        S    male       None   \n",
       "1      0          PC 17599  71.2833   C85        C  female          C   \n",
       "2      0  STON/O2. 3101282   7.9250   NaN        S  female       None   \n",
       "3      0            113803  53.1000  C123        S  female          C   \n",
       "4      0            373450   8.0500   NaN        S    male       None   \n",
       "\n",
       "   EmbarkedCity  \n",
       "0  Southhampton  \n",
       "1    Chersbourg  \n",
       "2  Southhampton  \n",
       "3  Southhampton  \n",
       "4  Southhampton  "
      ]
     },
     "execution_count": 32,
     "metadata": {},
     "output_type": "execute_result"
    }
   ],
   "source": [
    "titanic_df.head()"
   ]
  },
  {
   "cell_type": "markdown",
   "id": "0d916181",
   "metadata": {},
   "source": [
    "Now that we have confirmed the column 'EmbarkedCity' was created successfully, let's create a grouped bar chart to visualize the number of passengers from each 'Pclass' and the city from which they embarked."
   ]
  },
  {
   "cell_type": "code",
   "execution_count": 33,
   "id": "8b3caef9",
   "metadata": {},
   "outputs": [
    {
     "data": {
      "text/plain": [
       "<seaborn.axisgrid.FacetGrid at 0x289cf581900>"
      ]
     },
     "execution_count": 33,
     "metadata": {},
     "output_type": "execute_result"
    },
    {
     "data": {
      "image/png": "[encoded data removed]",
      "text/plain": [
       "<Figure size 558.875x500 with 1 Axes>"
      ]
     },
     "metadata": {},
     "output_type": "display_data"
    }
   ],
   "source": [
    "sns.catplot(data = titanic_df, x = 'EmbarkedCity', kind = 'count', hue = 'Pclass', order = ['Chersbourg', 'Queenstown', 'Southhampton'])"
   ]
  },
  {
   "cell_type": "markdown",
   "id": "4083eb91",
   "metadata": {},
   "source": [
    "In viewing the graph above, the greatest number of total passengers embarked from Southhampton. Southhampton also had a relatively large number of third class passengers compared to the other cities. Why is that? The Titanic was built and departed from Southhampton, which could explain why the majority of passengers on the ship hailed from that city."
   ]
  },
  {
   "cell_type": "markdown",
   "id": "e1299bff",
   "metadata": {},
   "source": [
    "# Who was alone on the ship, and who was with family?\n",
    "       "
   ]
  },
  {
   "cell_type": "markdown",
   "id": "c231cff2",
   "metadata": {},
   "source": [
    "It would be nice to know who was with family, and who was alone on the Titanic. There are two columns that can help to determine this: 'SibSp' and 'Parch'. 'SibSp' indicates the number of sibilings or spouses on board; 'Parch' represents the number of parent or children on board. Therefore, if both are zero (0) for a passenger, he or she is alone on the ship.\n",
    "\n",
    "We'll create a function to generate a new column called 'Solo' which will indicate if the passenger is with family ('With Family') or alone ('Solo')."
   ]
  },
  {
   "cell_type": "code",
   "execution_count": 34,
   "id": "7357b2c4",
   "metadata": {},
   "outputs": [],
   "source": [
    "# function to determine if a passenger is alone or with family\n",
    "def lone_passenger(passenger):\n",
    "    sib, par = passenger\n",
    "    if sib == 1 or par == 1:\n",
    "        return 'With Family'\n",
    "    else:\n",
    "        return 'Solo'"
   ]
  },
  {
   "cell_type": "code",
   "execution_count": 35,
   "id": "d062e651",
   "metadata": {},
   "outputs": [],
   "source": [
    "# creates new column and applies function above, 'lone_passenger'\n",
    "titanic_df['Solo'] = titanic_df[['SibSp', 'Parch']].apply(lone_passenger, axis = 1)"
   ]
  },
  {
   "cell_type": "markdown",
   "id": "9018add5",
   "metadata": {},
   "source": [
    "If we return the first five rows of the dataframe, we can see that the column 'Solo' was created correctly:"
   ]
  },
  {
   "cell_type": "code",
   "execution_count": 36,
   "id": "e9a54416",
   "metadata": {},
   "outputs": [
    {
     "data": {
      "text/html": [
       "<div>\n",
       "<style scoped>\n",
       "    .dataframe tbody tr th:only-of-type {\n",
       "        vertical-align: middle;\n",
       "    }\n",
       "\n",
       "    .dataframe tbody tr th {\n",
       "        vertical-align: top;\n",
       "    }\n",
       "\n",
       "    .dataframe thead th {\n",
       "        text-align: right;\n",
       "    }\n",
       "</style>\n",
       "<table border=\"1\" class=\"dataframe\">\n",
       "  <thead>\n",
       "    <tr style=\"text-align: right;\">\n",
       "      <th></th>\n",
       "      <th>PassengerId</th>\n",
       "      <th>Survived</th>\n",
       "      <th>Pclass</th>\n",
       "      <th>First_Name</th>\n",
       "      <th>Last_Name</th>\n",
       "      <th>Sex</th>\n",
       "      <th>Age</th>\n",
       "      <th>SibSp</th>\n",
       "      <th>Parch</th>\n",
       "      <th>Ticket</th>\n",
       "      <th>Fare</th>\n",
       "      <th>Cabin</th>\n",
       "      <th>Embarked</th>\n",
       "      <th>Person</th>\n",
       "      <th>Deck_Level</th>\n",
       "      <th>EmbarkedCity</th>\n",
       "      <th>Solo</th>\n",
       "    </tr>\n",
       "  </thead>\n",
       "  <tbody>\n",
       "    <tr>\n",
       "      <th>0</th>\n",
       "      <td>1</td>\n",
       "      <td>0</td>\n",
       "      <td>3</td>\n",
       "      <td>Harris</td>\n",
       "      <td>Braund</td>\n",
       "      <td>male</td>\n",
       "      <td>22.0</td>\n",
       "      <td>1</td>\n",
       "      <td>0</td>\n",
       "      <td>A/5 21171</td>\n",
       "      <td>7.2500</td>\n",
       "      <td>NaN</td>\n",
       "      <td>S</td>\n",
       "      <td>male</td>\n",
       "      <td>None</td>\n",
       "      <td>Southhampton</td>\n",
       "      <td>With Family</td>\n",
       "    </tr>\n",
       "    <tr>\n",
       "      <th>1</th>\n",
       "      <td>2</td>\n",
       "      <td>1</td>\n",
       "      <td>1</td>\n",
       "      <td>Thayer</td>\n",
       "      <td>Cumings</td>\n",
       "      <td>female</td>\n",
       "      <td>38.0</td>\n",
       "      <td>1</td>\n",
       "      <td>0</td>\n",
       "      <td>PC 17599</td>\n",
       "      <td>71.2833</td>\n",
       "      <td>C85</td>\n",
       "      <td>C</td>\n",
       "      <td>female</td>\n",
       "      <td>C</td>\n",
       "      <td>Chersbourg</td>\n",
       "      <td>With Family</td>\n",
       "    </tr>\n",
       "    <tr>\n",
       "      <th>2</th>\n",
       "      <td>3</td>\n",
       "      <td>1</td>\n",
       "      <td>3</td>\n",
       "      <td>Laina</td>\n",
       "      <td>Heikkinen</td>\n",
       "      <td>female</td>\n",
       "      <td>26.0</td>\n",
       "      <td>0</td>\n",
       "      <td>0</td>\n",
       "      <td>STON/O2. 3101282</td>\n",
       "      <td>7.9250</td>\n",
       "      <td>NaN</td>\n",
       "      <td>S</td>\n",
       "      <td>female</td>\n",
       "      <td>None</td>\n",
       "      <td>Southhampton</td>\n",
       "      <td>Solo</td>\n",
       "    </tr>\n",
       "    <tr>\n",
       "      <th>3</th>\n",
       "      <td>4</td>\n",
       "      <td>1</td>\n",
       "      <td>1</td>\n",
       "      <td>Peel</td>\n",
       "      <td>Futrelle</td>\n",
       "      <td>female</td>\n",
       "      <td>35.0</td>\n",
       "      <td>1</td>\n",
       "      <td>0</td>\n",
       "      <td>113803</td>\n",
       "      <td>53.1000</td>\n",
       "      <td>C123</td>\n",
       "      <td>S</td>\n",
       "      <td>female</td>\n",
       "      <td>C</td>\n",
       "      <td>Southhampton</td>\n",
       "      <td>With Family</td>\n",
       "    </tr>\n",
       "    <tr>\n",
       "      <th>4</th>\n",
       "      <td>5</td>\n",
       "      <td>0</td>\n",
       "      <td>3</td>\n",
       "      <td>Henry</td>\n",
       "      <td>Allen</td>\n",
       "      <td>male</td>\n",
       "      <td>35.0</td>\n",
       "      <td>0</td>\n",
       "      <td>0</td>\n",
       "      <td>373450</td>\n",
       "      <td>8.0500</td>\n",
       "      <td>NaN</td>\n",
       "      <td>S</td>\n",
       "      <td>male</td>\n",
       "      <td>None</td>\n",
       "      <td>Southhampton</td>\n",
       "      <td>Solo</td>\n",
       "    </tr>\n",
       "  </tbody>\n",
       "</table>\n",
       "</div>"
      ],
      "text/plain": [
       "   PassengerId  Survived  Pclass First_Name  Last_Name     Sex   Age  SibSp  \\\n",
       "0            1         0       3     Harris     Braund    male  22.0      1   \n",
       "1            2         1       1     Thayer    Cumings  female  38.0      1   \n",
       "2            3         1       3      Laina  Heikkinen  female  26.0      0   \n",
       "3            4         1       1       Peel   Futrelle  female  35.0      1   \n",
       "4            5         0       3      Henry      Allen    male  35.0      0   \n",
       "\n",
       "   Parch            Ticket     Fare Cabin Embarked  Person Deck_Level  \\\n",
       "0      0         A/5 21171   7.2500   NaN        S    male       None   \n",
       "1      0          PC 17599  71.2833   C85        C  female          C   \n",
       "2      0  STON/O2. 3101282   7.9250   NaN        S  female       None   \n",
       "3      0            113803  53.1000  C123        S  female          C   \n",
       "4      0            373450   8.0500   NaN        S    male       None   \n",
       "\n",
       "   EmbarkedCity         Solo  \n",
       "0  Southhampton  With Family  \n",
       "1    Chersbourg  With Family  \n",
       "2  Southhampton         Solo  \n",
       "3  Southhampton  With Family  \n",
       "4  Southhampton         Solo  "
      ]
     },
     "execution_count": 36,
     "metadata": {},
     "output_type": "execute_result"
    }
   ],
   "source": [
    "titanic_df.head()"
   ]
  },
  {
   "cell_type": "markdown",
   "id": "27281a24",
   "metadata": {},
   "source": [
    "Using the newly added column, let's analyze the breakdown of passengers with and without family on the ship:"
   ]
  },
  {
   "cell_type": "code",
   "execution_count": 37,
   "id": "92ec0aad",
   "metadata": {},
   "outputs": [
    {
     "data": {
      "text/plain": [
       "Solo\n",
       "Solo           621\n",
       "With Family    270\n",
       "Name: Solo, dtype: int64"
      ]
     },
     "execution_count": 37,
     "metadata": {},
     "output_type": "execute_result"
    }
   ],
   "source": [
    "# aggregates and returns count of passengers based on the column 'Solo'\n",
    "solo = titanic_df.groupby('Solo')['Solo'].count()\n",
    "solo"
   ]
  },
  {
   "cell_type": "code",
   "execution_count": 38,
   "id": "f5a6d0f0",
   "metadata": {},
   "outputs": [
    {
     "data": {
      "text/plain": [
       "Text(0, 0.5, 'Count')"
      ]
     },
     "execution_count": 38,
     "metadata": {},
     "output_type": "execute_result"
    },
    {
     "data": {
      "image/png": "[encoded data removed]",
      "text/plain": [
       "<Figure size 640x480 with 1 Axes>"
      ]
     },
     "metadata": {},
     "output_type": "display_data"
    }
   ],
   "source": [
    "plt.bar(x = solo.index, height = solo.values, color = ['blue','purple'])\n",
    "plt.title('Passengers on the Titanic Alone vs. with Family')\n",
    "plt.xlabel('Status Onboard')\n",
    "plt.ylabel('Count')"
   ]
  },
  {
   "cell_type": "markdown",
   "id": "b4ca6bb3",
   "metadata": {},
   "source": [
    "As you can see in the chart above, there was more than two times (~2.3x) the number of passengers (621 people) alone on the ship versus those with family.\n",
    "\n",
    "I'm goig to make the assumption that a majority of the solo passengers were male based on our prior analysis. To verify this, let's enhance the bar chart above:"
   ]
  },
  {
   "cell_type": "code",
   "execution_count": 39,
   "id": "842f1ed0",
   "metadata": {},
   "outputs": [
    {
     "data": {
      "text/plain": [
       "<seaborn.axisgrid.FacetGrid at 0x289cf6bc1f0>"
      ]
     },
     "execution_count": 39,
     "metadata": {},
     "output_type": "execute_result"
    },
    {
     "data": {
      "image/png": "[encoded data removed]",
      "text/plain": [
       "<Figure size 598x500 with 1 Axes>"
      ]
     },
     "metadata": {},
     "output_type": "display_data"
    }
   ],
   "source": [
    "sns.catplot(data = titanic_df, x = 'Solo', kind = 'count', hue = 'Person')"
   ]
  },
  {
   "cell_type": "code",
   "execution_count": 40,
   "id": "f33739a4",
   "metadata": {},
   "outputs": [
    {
     "data": {
      "text/html": [
       "<div>\n",
       "<style scoped>\n",
       "    .dataframe tbody tr th:only-of-type {\n",
       "        vertical-align: middle;\n",
       "    }\n",
       "\n",
       "    .dataframe tbody tr th {\n",
       "        vertical-align: top;\n",
       "    }\n",
       "\n",
       "    .dataframe thead th {\n",
       "        text-align: right;\n",
       "    }\n",
       "</style>\n",
       "<table border=\"1\" class=\"dataframe\">\n",
       "  <thead>\n",
       "    <tr style=\"text-align: right;\">\n",
       "      <th>Person</th>\n",
       "      <th>child</th>\n",
       "      <th>female</th>\n",
       "      <th>male</th>\n",
       "    </tr>\n",
       "    <tr>\n",
       "      <th>Solo</th>\n",
       "      <th></th>\n",
       "      <th></th>\n",
       "      <th></th>\n",
       "    </tr>\n",
       "  </thead>\n",
       "  <tbody>\n",
       "    <tr>\n",
       "      <th>Solo</th>\n",
       "      <td>32</td>\n",
       "      <td>156</td>\n",
       "      <td>433</td>\n",
       "    </tr>\n",
       "    <tr>\n",
       "      <th>With Family</th>\n",
       "      <td>51</td>\n",
       "      <td>115</td>\n",
       "      <td>104</td>\n",
       "    </tr>\n",
       "  </tbody>\n",
       "</table>\n",
       "</div>"
      ],
      "text/plain": [
       "Person       child  female  male\n",
       "Solo                            \n",
       "Solo            32     156   433\n",
       "With Family     51     115   104"
      ]
     },
     "execution_count": 40,
     "metadata": {},
     "output_type": "execute_result"
    }
   ],
   "source": [
    "titanic_df.groupby(['Solo','Person'])['PassengerId'].count().unstack()"
   ]
  },
  {
   "cell_type": "markdown",
   "id": "defe9b4c",
   "metadata": {},
   "source": [
    "Based the analysis, we can conclude the following:\n",
    "\n",
    "    1) There was more than two times (~2.3x) the number of passengers (621 people) alone on the ship versus those with \n",
    "       family.\n",
    "    \n",
    "    2) Of the passengers alone on the ship, ~70% of them were male. This validates my prior conclusion that men exercised \n",
    "        greater social and economic freedom than women. In the early 20th century, it would be less likely to find a woman \n",
    "        travelling alone."
   ]
  },
  {
   "cell_type": "markdown",
   "id": "83c77a25",
   "metadata": {},
   "source": [
    "# How did survival relate to other features?"
   ]
  },
  {
   "cell_type": "markdown",
   "id": "431c6a8f",
   "metadata": {},
   "source": [
    "For the final part of the analysis prior to running our ML model, let's analyze one critical feature: survival. Let's analyze not only the survival but also how survival relates to other features (e.g.; sex).\n",
    "\n",
    "First, I will create an additional column called 'Survivor' indicating if a passenger did or did not survive."
   ]
  },
  {
   "cell_type": "code",
   "execution_count": 41,
   "id": "2e6d7678",
   "metadata": {},
   "outputs": [],
   "source": [
    "# maps 0 to 'No' and 1 to 'Yes' to create a new column called 'Survivor'\n",
    "titanic_df['Survivor'] = titanic_df.Survived.map({0:'No',1:'Yes'})"
   ]
  },
  {
   "cell_type": "code",
   "execution_count": 42,
   "id": "cdb58f54",
   "metadata": {},
   "outputs": [
    {
     "data": {
      "text/html": [
       "<div>\n",
       "<style scoped>\n",
       "    .dataframe tbody tr th:only-of-type {\n",
       "        vertical-align: middle;\n",
       "    }\n",
       "\n",
       "    .dataframe tbody tr th {\n",
       "        vertical-align: top;\n",
       "    }\n",
       "\n",
       "    .dataframe thead th {\n",
       "        text-align: right;\n",
       "    }\n",
       "</style>\n",
       "<table border=\"1\" class=\"dataframe\">\n",
       "  <thead>\n",
       "    <tr style=\"text-align: right;\">\n",
       "      <th></th>\n",
       "      <th>PassengerId</th>\n",
       "      <th>Survived</th>\n",
       "      <th>Pclass</th>\n",
       "      <th>First_Name</th>\n",
       "      <th>Last_Name</th>\n",
       "      <th>Sex</th>\n",
       "      <th>Age</th>\n",
       "      <th>SibSp</th>\n",
       "      <th>Parch</th>\n",
       "      <th>Ticket</th>\n",
       "      <th>Fare</th>\n",
       "      <th>Cabin</th>\n",
       "      <th>Embarked</th>\n",
       "      <th>Person</th>\n",
       "      <th>Deck_Level</th>\n",
       "      <th>EmbarkedCity</th>\n",
       "      <th>Solo</th>\n",
       "      <th>Survivor</th>\n",
       "    </tr>\n",
       "  </thead>\n",
       "  <tbody>\n",
       "    <tr>\n",
       "      <th>0</th>\n",
       "      <td>1</td>\n",
       "      <td>0</td>\n",
       "      <td>3</td>\n",
       "      <td>Harris</td>\n",
       "      <td>Braund</td>\n",
       "      <td>male</td>\n",
       "      <td>22.0</td>\n",
       "      <td>1</td>\n",
       "      <td>0</td>\n",
       "      <td>A/5 21171</td>\n",
       "      <td>7.2500</td>\n",
       "      <td>NaN</td>\n",
       "      <td>S</td>\n",
       "      <td>male</td>\n",
       "      <td>None</td>\n",
       "      <td>Southhampton</td>\n",
       "      <td>With Family</td>\n",
       "      <td>No</td>\n",
       "    </tr>\n",
       "    <tr>\n",
       "      <th>1</th>\n",
       "      <td>2</td>\n",
       "      <td>1</td>\n",
       "      <td>1</td>\n",
       "      <td>Thayer</td>\n",
       "      <td>Cumings</td>\n",
       "      <td>female</td>\n",
       "      <td>38.0</td>\n",
       "      <td>1</td>\n",
       "      <td>0</td>\n",
       "      <td>PC 17599</td>\n",
       "      <td>71.2833</td>\n",
       "      <td>C85</td>\n",
       "      <td>C</td>\n",
       "      <td>female</td>\n",
       "      <td>C</td>\n",
       "      <td>Chersbourg</td>\n",
       "      <td>With Family</td>\n",
       "      <td>Yes</td>\n",
       "    </tr>\n",
       "    <tr>\n",
       "      <th>2</th>\n",
       "      <td>3</td>\n",
       "      <td>1</td>\n",
       "      <td>3</td>\n",
       "      <td>Laina</td>\n",
       "      <td>Heikkinen</td>\n",
       "      <td>female</td>\n",
       "      <td>26.0</td>\n",
       "      <td>0</td>\n",
       "      <td>0</td>\n",
       "      <td>STON/O2. 3101282</td>\n",
       "      <td>7.9250</td>\n",
       "      <td>NaN</td>\n",
       "      <td>S</td>\n",
       "      <td>female</td>\n",
       "      <td>None</td>\n",
       "      <td>Southhampton</td>\n",
       "      <td>Solo</td>\n",
       "      <td>Yes</td>\n",
       "    </tr>\n",
       "    <tr>\n",
       "      <th>3</th>\n",
       "      <td>4</td>\n",
       "      <td>1</td>\n",
       "      <td>1</td>\n",
       "      <td>Peel</td>\n",
       "      <td>Futrelle</td>\n",
       "      <td>female</td>\n",
       "      <td>35.0</td>\n",
       "      <td>1</td>\n",
       "      <td>0</td>\n",
       "      <td>113803</td>\n",
       "      <td>53.1000</td>\n",
       "      <td>C123</td>\n",
       "      <td>S</td>\n",
       "      <td>female</td>\n",
       "      <td>C</td>\n",
       "      <td>Southhampton</td>\n",
       "      <td>With Family</td>\n",
       "      <td>Yes</td>\n",
       "    </tr>\n",
       "    <tr>\n",
       "      <th>4</th>\n",
       "      <td>5</td>\n",
       "      <td>0</td>\n",
       "      <td>3</td>\n",
       "      <td>Henry</td>\n",
       "      <td>Allen</td>\n",
       "      <td>male</td>\n",
       "      <td>35.0</td>\n",
       "      <td>0</td>\n",
       "      <td>0</td>\n",
       "      <td>373450</td>\n",
       "      <td>8.0500</td>\n",
       "      <td>NaN</td>\n",
       "      <td>S</td>\n",
       "      <td>male</td>\n",
       "      <td>None</td>\n",
       "      <td>Southhampton</td>\n",
       "      <td>Solo</td>\n",
       "      <td>No</td>\n",
       "    </tr>\n",
       "  </tbody>\n",
       "</table>\n",
       "</div>"
      ],
      "text/plain": [
       "   PassengerId  Survived  Pclass First_Name  Last_Name     Sex   Age  SibSp  \\\n",
       "0            1         0       3     Harris     Braund    male  22.0      1   \n",
       "1            2         1       1     Thayer    Cumings  female  38.0      1   \n",
       "2            3         1       3      Laina  Heikkinen  female  26.0      0   \n",
       "3            4         1       1       Peel   Futrelle  female  35.0      1   \n",
       "4            5         0       3      Henry      Allen    male  35.0      0   \n",
       "\n",
       "   Parch            Ticket     Fare Cabin Embarked  Person Deck_Level  \\\n",
       "0      0         A/5 21171   7.2500   NaN        S    male       None   \n",
       "1      0          PC 17599  71.2833   C85        C  female          C   \n",
       "2      0  STON/O2. 3101282   7.9250   NaN        S  female       None   \n",
       "3      0            113803  53.1000  C123        S  female          C   \n",
       "4      0            373450   8.0500   NaN        S    male       None   \n",
       "\n",
       "   EmbarkedCity         Solo Survivor  \n",
       "0  Southhampton  With Family       No  \n",
       "1    Chersbourg  With Family      Yes  \n",
       "2  Southhampton         Solo      Yes  \n",
       "3  Southhampton  With Family      Yes  \n",
       "4  Southhampton         Solo       No  "
      ]
     },
     "execution_count": 42,
     "metadata": {},
     "output_type": "execute_result"
    }
   ],
   "source": [
    "titanic_df.head()"
   ]
  },
  {
   "cell_type": "markdown",
   "id": "90fa09e0",
   "metadata": {},
   "source": [
    "Let's now analyze the newly created column 'Survivor':"
   ]
  },
  {
   "cell_type": "code",
   "execution_count": 43,
   "id": "1cb1f753",
   "metadata": {},
   "outputs": [
    {
     "data": {
      "text/html": [
       "<div>\n",
       "<style scoped>\n",
       "    .dataframe tbody tr th:only-of-type {\n",
       "        vertical-align: middle;\n",
       "    }\n",
       "\n",
       "    .dataframe tbody tr th {\n",
       "        vertical-align: top;\n",
       "    }\n",
       "\n",
       "    .dataframe thead th {\n",
       "        text-align: right;\n",
       "    }\n",
       "</style>\n",
       "<table border=\"1\" class=\"dataframe\">\n",
       "  <thead>\n",
       "    <tr style=\"text-align: right;\">\n",
       "      <th></th>\n",
       "      <th>Survived</th>\n",
       "      <th>Pct</th>\n",
       "    </tr>\n",
       "    <tr>\n",
       "      <th>Survivor</th>\n",
       "      <th></th>\n",
       "      <th></th>\n",
       "    </tr>\n",
       "  </thead>\n",
       "  <tbody>\n",
       "    <tr>\n",
       "      <th>No</th>\n",
       "      <td>549</td>\n",
       "      <td>0.616162</td>\n",
       "    </tr>\n",
       "    <tr>\n",
       "      <th>Yes</th>\n",
       "      <td>342</td>\n",
       "      <td>0.383838</td>\n",
       "    </tr>\n",
       "  </tbody>\n",
       "</table>\n",
       "</div>"
      ],
      "text/plain": [
       "          Survived       Pct\n",
       "Survivor                    \n",
       "No             549  0.616162\n",
       "Yes            342  0.383838"
      ]
     },
     "execution_count": 43,
     "metadata": {},
     "output_type": "execute_result"
    }
   ],
   "source": [
    "survived = titanic_df.groupby('Survivor').count()\n",
    "survived['Pct'] = survived['Survived'] / survived['Survived'].sum()\n",
    "survived[['Survived','Pct']]"
   ]
  },
  {
   "cell_type": "code",
   "execution_count": 45,
   "id": "6edc573c",
   "metadata": {},
   "outputs": [
    {
     "data": {
      "text/plain": [
       "Text(0.5, 0, 'Survived')"
      ]
     },
     "execution_count": 45,
     "metadata": {},
     "output_type": "execute_result"
    },
    {
     "data": {
      "image/png": "[encoded data removed]",
      "text/plain": [
       "<Figure size 640x480 with 1 Axes>"
      ]
     },
     "metadata": {},
     "output_type": "display_data"
    }
   ],
   "source": [
    "plt.bar(x = survived.index, height = survived['Survived'], color = ['indianred', 'green'])\n",
    "plt.title('Number of Titanic Passengers that Survived vs. Perished')\n",
    "plt.ylabel('Count of Passengers')\n",
    "plt.xlabel('Survived')"
   ]
  },
  {
   "cell_type": "markdown",
   "id": "4c504844",
   "metadata": {},
   "source": [
    "Based on the dataframe and graphic above, only ~38% of passengers on the Titanic survived the wreck."
   ]
  },
  {
   "cell_type": "markdown",
   "id": "b14067b4",
   "metadata": {},
   "source": [
    "The following visualizations will look to determine the relationship between survival and the following features of the dataframe: sex/person, age, Pclass, deck level, etc."
   ]
  },
  {
   "cell_type": "code",
   "execution_count": 46,
   "id": "bd5459ce",
   "metadata": {},
   "outputs": [
    {
     "data": {
      "text/plain": [
       "<seaborn.axisgrid.FacetGrid at 0x289cf50ad10>"
      ]
     },
     "execution_count": 46,
     "metadata": {},
     "output_type": "execute_result"
    },
    {
     "data": {
      "image/png": "[encoded data removed]",
      "text/plain": [
       "<Figure size 598x500 with 1 Axes>"
      ]
     },
     "metadata": {},
     "output_type": "display_data"
    }
   ],
   "source": [
    "sns.catplot(x = 'Pclass', y = 'Survived', data = titanic_df, kind = 'point', hue = 'Person')"
   ]
  },
  {
   "cell_type": "code",
   "execution_count": 47,
   "id": "68042a74",
   "metadata": {},
   "outputs": [
    {
     "data": {
      "text/plain": [
       "<seaborn.axisgrid.FacetGrid at 0x289d37ce5f0>"
      ]
     },
     "execution_count": 47,
     "metadata": {},
     "output_type": "execute_result"
    },
    {
     "data": {
      "image/png": "[encoded data removed]",
      "text/plain": [
       "<Figure size 500x500 with 1 Axes>"
      ]
     },
     "metadata": {},
     "output_type": "display_data"
    }
   ],
   "source": [
    "# creates list that will be used as age ranges for the lmplot\n",
    "generations = [10, 20, 40, 60, 80]\n",
    "\n",
    "sns.lmplot(x = 'Age', y = 'Survived', data = titanic_df, x_bins = generations)"
   ]
  },
  {
   "cell_type": "code",
   "execution_count": 48,
   "id": "524fe5a2",
   "metadata": {},
   "outputs": [
    {
     "data": {
      "text/plain": [
       "<seaborn.axisgrid.FacetGrid at 0x289cf70f5b0>"
      ]
     },
     "execution_count": 48,
     "metadata": {},
     "output_type": "execute_result"
    },
    {
     "data": {
      "image/png": "[encoded data removed]",
      "text/plain": [
       "<Figure size 558.875x500 with 1 Axes>"
      ]
     },
     "metadata": {},
     "output_type": "display_data"
    }
   ],
   "source": [
    "sns.lmplot(x = 'Age', y = 'Survived', data = titanic_df, hue = 'Pclass', palette = 'winter', x_bins = generations)"
   ]
  },
  {
   "cell_type": "code",
   "execution_count": 49,
   "id": "3bb97f83",
   "metadata": {},
   "outputs": [
    {
     "data": {
      "text/plain": [
       "<seaborn.axisgrid.FacetGrid at 0x289d38d1330>"
      ]
     },
     "execution_count": 49,
     "metadata": {},
     "output_type": "execute_result"
    },
    {
     "data": {
      "image/png": "[encoded data removed]",
      "text/plain": [
       "<Figure size 598x500 with 1 Axes>"
      ]
     },
     "metadata": {},
     "output_type": "display_data"
    }
   ],
   "source": [
    "sns.lmplot(x = 'Age', y = 'Survived', data = titanic_df, hue = 'Person', x_bins = generations)"
   ]
  },
  {
   "cell_type": "markdown",
   "id": "3218989d",
   "metadata": {},
   "source": [
    "Based on the graphs above, we can conclude the following:\n",
    "    \n",
    "    1) The older a passenger was, the less likely he or she was to survive the disaster.\n",
    "    \n",
    "    2) 1st class passengers had the greatest chance of survival regardless of age\n",
    "    \n",
    "    3) Females were most likely to survive the distaster."
   ]
  },
  {
   "cell_type": "markdown",
   "id": "7d94d3a5",
   "metadata": {},
   "source": [
    "Using we what we know, let's attempt to answer the following two questions:\n",
    "\n",
    "    1) Did the deck have an effect on the passengers survival rate?\n",
    "\n",
    "    2) Did having a family member increase the odds of surviving the crash?"
   ]
  },
  {
   "cell_type": "code",
   "execution_count": 50,
   "id": "8e498712",
   "metadata": {},
   "outputs": [
    {
     "data": {
      "text/plain": [
       "<seaborn.axisgrid.FacetGrid at 0x289d3afc5b0>"
      ]
     },
     "execution_count": 50,
     "metadata": {},
     "output_type": "execute_result"
    },
    {
     "data": {
      "image/png": "[encoded data removed]",
      "text/plain": [
       "<Figure size 500x500 with 1 Axes>"
      ]
     },
     "metadata": {},
     "output_type": "display_data"
    }
   ],
   "source": [
    "sns.catplot(x = 'Deck_Level', y = 'Survived', data = titanic_df, kind = 'point', order = ['A', 'B','C','D','E','F','G'])"
   ]
  },
  {
   "cell_type": "code",
   "execution_count": 51,
   "id": "309b9154",
   "metadata": {},
   "outputs": [
    {
     "data": {
      "text/plain": [
       "<seaborn.axisgrid.FacetGrid at 0x289d3ad3fd0>"
      ]
     },
     "execution_count": 51,
     "metadata": {},
     "output_type": "execute_result"
    },
    {
     "data": {
      "image/png": "[encoded data removed]",
      "text/plain": [
       "<Figure size 630.875x500 with 1 Axes>"
      ]
     },
     "metadata": {},
     "output_type": "display_data"
    }
   ],
   "source": [
    "sns.catplot(x = 'Deck_Level', y = 'Survived', data = titanic_df, kind = 'point', order = ['A', 'B','C','D','E','F','G'], hue = 'Solo')"
   ]
  },
  {
   "cell_type": "markdown",
   "id": "b9578b27",
   "metadata": {},
   "source": [
    "The charts above display the following:\n",
    "\n",
    "    1) There is no discernable pattern/relationship between deck level and survival. For example, the survival rate between \n",
    "       level A and G is the same; however,\n",
    "    \n",
    "    2) Passengers who were alone on the ship had a less chance of survival than passengers with family on most levels of \n",
    "       the ship."
   ]
  },
  {
   "cell_type": "markdown",
   "id": "dd68bfd0",
   "metadata": {},
   "source": [
    "# Utilizing Machine Learning to Predict Survival Rates"
   ]
  },
  {
   "cell_type": "markdown",
   "id": "4c4f8175",
   "metadata": {},
   "source": [
    "Having performed an analysis of the raw data from the 'train.csv' dataset, I'll now look to create an ML model that predicts which passengers survived the Titanic. Two different datasets will be used for this phase of the project:\n",
    "\n",
    "    1) The training set (train.csv) will be utilized to build the ML model.\n",
    "    2) The test set (test.csv) will be leveraged to test the performance of the model"
   ]
  },
  {
   "cell_type": "markdown",
   "id": "1fce9ce1",
   "metadata": {},
   "source": [
    "There are two minimum requirements to fulfill to create a successful model: no null values present in the data and all data must be in numeric format. The following lines of code will address these two areas."
   ]
  },
  {
   "cell_type": "markdown",
   "id": "9d2794b5",
   "metadata": {},
   "source": [
    "Before addressing these areas, I'll select which features to include in the model. My selection criteria will be relatively basic - only columns that have few unique values and/or little or no null values will be included in the model."
   ]
  },
  {
   "cell_type": "code",
   "execution_count": 60,
   "id": "a4cc473a",
   "metadata": {},
   "outputs": [],
   "source": [
    "train_df = pd.read_csv('train.csv')"
   ]
  },
  {
   "cell_type": "code",
   "execution_count": 61,
   "id": "046751b9",
   "metadata": {},
   "outputs": [],
   "source": [
    "test_df = pd.read_csv('test.csv')"
   ]
  },
  {
   "cell_type": "markdown",
   "id": "bc9a249b",
   "metadata": {},
   "source": [
    "The columns 'Name', 'Age', 'Ticket', 'Fare', and 'Cabin' will be dropped from both datasets due the above selection criteria..."
   ]
  },
  {
   "cell_type": "code",
   "execution_count": 62,
   "id": "40df2d58",
   "metadata": {},
   "outputs": [],
   "source": [
    "train_df.drop(labels = ['Name', 'Age', 'Ticket', 'Fare', 'Cabin'], inplace = True, axis = 1)\n",
    "test_df.drop(labels = ['Name', 'Age', 'Ticket', 'Fare', 'Cabin'], inplace = True, axis = 1)"
   ]
  },
  {
   "cell_type": "markdown",
   "id": "1abae3f0",
   "metadata": {},
   "source": [
    "Now that the baseline has been established, let's address null values in the selected columns. Out of all fields remaining, 'Embarked' is the only feature that has null values. We can confirm this by returning information on both dframes:"
   ]
  },
  {
   "cell_type": "code",
   "execution_count": 63,
   "id": "a3722be3",
   "metadata": {},
   "outputs": [
    {
     "name": "stdout",
     "output_type": "stream",
     "text": [
      "<class 'pandas.core.frame.DataFrame'>\n",
      "RangeIndex: 891 entries, 0 to 890\n",
      "Data columns (total 7 columns):\n",
      " #   Column       Non-Null Count  Dtype \n",
      "---  ------       --------------  ----- \n",
      " 0   PassengerId  891 non-null    int64 \n",
      " 1   Survived     891 non-null    int64 \n",
      " 2   Pclass       891 non-null    int64 \n",
      " 3   Sex          891 non-null    object\n",
      " 4   SibSp        891 non-null    int64 \n",
      " 5   Parch        891 non-null    int64 \n",
      " 6   Embarked     889 non-null    object\n",
      "dtypes: int64(5), object(2)\n",
      "memory usage: 48.9+ KB\n",
      "<class 'pandas.core.frame.DataFrame'>\n",
      "RangeIndex: 418 entries, 0 to 417\n",
      "Data columns (total 6 columns):\n",
      " #   Column       Non-Null Count  Dtype \n",
      "---  ------       --------------  ----- \n",
      " 0   PassengerId  418 non-null    int64 \n",
      " 1   Pclass       418 non-null    int64 \n",
      " 2   Sex          418 non-null    object\n",
      " 3   SibSp        418 non-null    int64 \n",
      " 4   Parch        418 non-null    int64 \n",
      " 5   Embarked     418 non-null    object\n",
      "dtypes: int64(4), object(2)\n",
      "memory usage: 19.7+ KB\n",
      "None None\n"
     ]
    }
   ],
   "source": [
    "print(train_df.info(), test_df.info())"
   ]
  },
  {
   "cell_type": "markdown",
   "id": "c07b364e",
   "metadata": {},
   "source": [
    "Let's take a value count of the field 'Embarked':"
   ]
  },
  {
   "cell_type": "code",
   "execution_count": 64,
   "id": "2b91b39d",
   "metadata": {},
   "outputs": [
    {
     "data": {
      "text/plain": [
       "S    644\n",
       "C    168\n",
       "Q     77\n",
       "Name: Embarked, dtype: int64"
      ]
     },
     "execution_count": 64,
     "metadata": {},
     "output_type": "execute_result"
    }
   ],
   "source": [
    "train_df.Embarked.value_counts()"
   ]
  },
  {
   "cell_type": "markdown",
   "id": "a3300e10",
   "metadata": {},
   "source": [
    "To avoid complicating things, let's fill the null values with the most common string, 'S'. This adjustment must be made on BOTH dataframes:"
   ]
  },
  {
   "cell_type": "code",
   "execution_count": 65,
   "id": "1cddd51f",
   "metadata": {},
   "outputs": [],
   "source": [
    "# replaces null values in 'Embarked' feature of both dframes with 'S'\n",
    "data = [train_df, test_df]\n",
    "\n",
    "for dataset in data:\n",
    "    dataset.Embarked = dataset.Embarked.fillna('S')"
   ]
  },
  {
   "cell_type": "markdown",
   "id": "c67a090c",
   "metadata": {},
   "source": [
    "Notice how the embarked column now has no null values present:"
   ]
  },
  {
   "cell_type": "code",
   "execution_count": 67,
   "id": "fb7b19ea",
   "metadata": {},
   "outputs": [
    {
     "name": "stdout",
     "output_type": "stream",
     "text": [
      "<class 'pandas.core.frame.DataFrame'>\n",
      "RangeIndex: 891 entries, 0 to 890\n",
      "Data columns (total 7 columns):\n",
      " #   Column       Non-Null Count  Dtype \n",
      "---  ------       --------------  ----- \n",
      " 0   PassengerId  891 non-null    int64 \n",
      " 1   Survived     891 non-null    int64 \n",
      " 2   Pclass       891 non-null    int64 \n",
      " 3   Sex          891 non-null    object\n",
      " 4   SibSp        891 non-null    int64 \n",
      " 5   Parch        891 non-null    int64 \n",
      " 6   Embarked     891 non-null    object\n",
      "dtypes: int64(5), object(2)\n",
      "memory usage: 48.9+ KB\n"
     ]
    }
   ],
   "source": [
    "train_df.info()"
   ]
  },
  {
   "cell_type": "markdown",
   "id": "0dd764d1",
   "metadata": {},
   "source": [
    "Since null values have been addressed in both datasets, I can now address incorrect data types. Recall, all features must be an integer or float for the ML model. The df.info() method displays the dtypes of each column:"
   ]
  },
  {
   "cell_type": "code",
   "execution_count": 68,
   "id": "e13cfe88",
   "metadata": {},
   "outputs": [
    {
     "name": "stdout",
     "output_type": "stream",
     "text": [
      "<class 'pandas.core.frame.DataFrame'>\n",
      "RangeIndex: 891 entries, 0 to 890\n",
      "Data columns (total 7 columns):\n",
      " #   Column       Non-Null Count  Dtype \n",
      "---  ------       --------------  ----- \n",
      " 0   PassengerId  891 non-null    int64 \n",
      " 1   Survived     891 non-null    int64 \n",
      " 2   Pclass       891 non-null    int64 \n",
      " 3   Sex          891 non-null    object\n",
      " 4   SibSp        891 non-null    int64 \n",
      " 5   Parch        891 non-null    int64 \n",
      " 6   Embarked     891 non-null    object\n",
      "dtypes: int64(5), object(2)\n",
      "memory usage: 48.9+ KB\n",
      "<class 'pandas.core.frame.DataFrame'>\n",
      "RangeIndex: 418 entries, 0 to 417\n",
      "Data columns (total 6 columns):\n",
      " #   Column       Non-Null Count  Dtype \n",
      "---  ------       --------------  ----- \n",
      " 0   PassengerId  418 non-null    int64 \n",
      " 1   Pclass       418 non-null    int64 \n",
      " 2   Sex          418 non-null    object\n",
      " 3   SibSp        418 non-null    int64 \n",
      " 4   Parch        418 non-null    int64 \n",
      " 5   Embarked     418 non-null    object\n",
      "dtypes: int64(4), object(2)\n",
      "memory usage: 19.7+ KB\n",
      "None None\n"
     ]
    }
   ],
   "source": [
    "print(train_df.info(), test_df.info())"
   ]
  },
  {
   "cell_type": "markdown",
   "id": "91deca8d",
   "metadata": {},
   "source": [
    "Viewing the information above, we can see that 'Sex' and 'Embarked' are stored as objects in their respective dataframes. The following lines of code will convert these dtypes to integers."
   ]
  },
  {
   "cell_type": "code",
   "execution_count": 69,
   "id": "a217b728",
   "metadata": {},
   "outputs": [
    {
     "data": {
      "text/plain": [
       "male      577\n",
       "female    314\n",
       "Name: Sex, dtype: int64"
      ]
     },
     "execution_count": 69,
     "metadata": {},
     "output_type": "execute_result"
    }
   ],
   "source": [
    "train_df['Sex'].value_counts()"
   ]
  },
  {
   "cell_type": "code",
   "execution_count": 70,
   "id": "57020343",
   "metadata": {},
   "outputs": [],
   "source": [
    "# changes 'Sex' feature in both dframes to binary integers, 0 for male and 1 for female\n",
    "gender_map = {'male':0, 'female':1}\n",
    "data = [train_df, test_df]\n",
    "\n",
    "for dataset in data:\n",
    "    dataset['Sex'] = dataset['Sex'].map(gender_map)"
   ]
  },
  {
   "cell_type": "code",
   "execution_count": 71,
   "id": "7f83e87d",
   "metadata": {},
   "outputs": [
    {
     "data": {
      "text/plain": [
       "S    270\n",
       "C    102\n",
       "Q     46\n",
       "Name: Embarked, dtype: int64"
      ]
     },
     "execution_count": 71,
     "metadata": {},
     "output_type": "execute_result"
    }
   ],
   "source": [
    "test_df['Embarked'].value_counts()"
   ]
  },
  {
   "cell_type": "code",
   "execution_count": 72,
   "id": "5e6f7e37",
   "metadata": {},
   "outputs": [],
   "source": [
    "# changes 'Embarked' feature in both dframes to integers, 0 for 'S', 1 for 'C', and 2 for 'Q'\n",
    "embarked_map = {'S':0, 'C':1, 'Q': 2}\n",
    "data = [train_df, test_df]\n",
    "\n",
    "for dataset in data:\n",
    "    dataset['Embarked'] = dataset['Embarked'].map(embarked_map)"
   ]
  },
  {
   "cell_type": "markdown",
   "id": "2952abb7",
   "metadata": {},
   "source": [
    "Viewing the information of both dframes, you'll notice all columns are in the correct dtype:"
   ]
  },
  {
   "cell_type": "code",
   "execution_count": 73,
   "id": "585222fd",
   "metadata": {},
   "outputs": [
    {
     "name": "stdout",
     "output_type": "stream",
     "text": [
      "<class 'pandas.core.frame.DataFrame'>\n",
      "RangeIndex: 891 entries, 0 to 890\n",
      "Data columns (total 7 columns):\n",
      " #   Column       Non-Null Count  Dtype\n",
      "---  ------       --------------  -----\n",
      " 0   PassengerId  891 non-null    int64\n",
      " 1   Survived     891 non-null    int64\n",
      " 2   Pclass       891 non-null    int64\n",
      " 3   Sex          891 non-null    int64\n",
      " 4   SibSp        891 non-null    int64\n",
      " 5   Parch        891 non-null    int64\n",
      " 6   Embarked     891 non-null    int64\n",
      "dtypes: int64(7)\n",
      "memory usage: 48.9 KB\n",
      "<class 'pandas.core.frame.DataFrame'>\n",
      "RangeIndex: 418 entries, 0 to 417\n",
      "Data columns (total 6 columns):\n",
      " #   Column       Non-Null Count  Dtype\n",
      "---  ------       --------------  -----\n",
      " 0   PassengerId  418 non-null    int64\n",
      " 1   Pclass       418 non-null    int64\n",
      " 2   Sex          418 non-null    int64\n",
      " 3   SibSp        418 non-null    int64\n",
      " 4   Parch        418 non-null    int64\n",
      " 5   Embarked     418 non-null    int64\n",
      "dtypes: int64(6)\n",
      "memory usage: 19.7 KB\n",
      "None None\n"
     ]
    }
   ],
   "source": [
    "print(train_df.info(), test_df.info())"
   ]
  },
  {
   "cell_type": "markdown",
   "id": "d43b0ac7",
   "metadata": {},
   "source": [
    "The final step before running the ML model will be selecting the x's and y's for the model, or our features and labels."
   ]
  },
  {
   "cell_type": "code",
   "execution_count": 75,
   "id": "cfdbaafe",
   "metadata": {},
   "outputs": [],
   "source": [
    "# all features for training purposes. Drop PassengerId as it serves no value.\n",
    "# Survived is also dropped as it is our y portion\n",
    "x_train = train_df.drop(['Survived', 'PassengerId'], axis = 1)\n",
    "\n",
    "# all y's that will be predicted by us\n",
    "y_train = train_df['Survived']"
   ]
  },
  {
   "cell_type": "code",
   "execution_count": 76,
   "id": "6a37ef02",
   "metadata": {},
   "outputs": [],
   "source": [
    "x_test = test_df.drop('PassengerId', axis = 1)"
   ]
  },
  {
   "cell_type": "markdown",
   "id": "e4c294e1",
   "metadata": {},
   "source": [
    "The next and final step is to select a model and train it. Since this is an introductory ML project, I have selected to use logistic regression."
   ]
  },
  {
   "cell_type": "code",
   "execution_count": 77,
   "id": "f048914b",
   "metadata": {},
   "outputs": [],
   "source": [
    "from sklearn.linear_model import LogisticRegression\n",
    "\n",
    "# defines classifier 'clf'\n",
    "clf = LogisticRegression(random_state = 0)\n",
    "\n",
    "# fits classifier on training set\n",
    "clf.fit(x_train, y_train)\n",
    "\n",
    "# predicts values from x_test and saves them to y column 'y_pred'\n",
    "y_pred = clf.predict(x_test)"
   ]
  },
  {
   "cell_type": "markdown",
   "id": "58df7b83",
   "metadata": {},
   "source": [
    "Let's print the variable 'y_pred' which will appear as 0's and 1's for whether the passenger survived or perished:"
   ]
  },
  {
   "cell_type": "code",
   "execution_count": 80,
   "id": "fa1668c3",
   "metadata": {},
   "outputs": [
    {
     "data": {
      "text/plain": [
       "array([0, 1, 0, 0, 1, 0, 1, 0, 1, 0, 0, 0, 1, 0, 1, 1, 0, 0, 1, 1, 0, 0,\n",
       "       1, 0, 1, 0, 1, 0, 0, 0, 0, 0, 1, 1, 0, 0, 1, 1, 0, 0, 0, 0, 0, 1,\n",
       "       1, 0, 0, 0, 1, 1, 0, 0, 1, 1, 0, 0, 0, 0, 0, 1, 0, 0, 0, 1, 0, 1,\n",
       "       1, 0, 0, 1, 1, 0, 1, 0, 1, 0, 0, 1, 0, 1, 0, 0, 0, 0, 0, 0, 1, 1,\n",
       "       1, 0, 1, 0, 1, 0, 0, 0, 1, 0, 1, 0, 1, 0, 0, 0, 1, 0, 0, 0, 0, 0,\n",
       "       0, 1, 1, 1, 1, 0, 0, 1, 0, 1, 1, 0, 1, 0, 0, 1, 0, 1, 0, 0, 0, 0,\n",
       "       1, 0, 0, 0, 0, 0, 1, 0, 0, 1, 0, 0, 0, 0, 0, 0, 0, 0, 1, 0, 0, 1,\n",
       "       0, 0, 1, 1, 0, 1, 1, 0, 1, 0, 0, 1, 0, 0, 1, 1, 0, 0, 0, 0, 0, 1,\n",
       "       1, 0, 1, 1, 0, 0, 1, 0, 1, 0, 1, 0, 0, 0, 0, 0, 0, 0, 0, 0, 0, 1,\n",
       "       0, 1, 1, 0, 0, 1, 0, 0, 1, 0, 1, 0, 0, 0, 0, 1, 0, 0, 1, 0, 1, 0,\n",
       "       1, 0, 1, 0, 1, 1, 0, 1, 0, 0, 0, 1, 0, 0, 0, 0, 0, 0, 1, 1, 1, 1,\n",
       "       0, 0, 0, 0, 1, 0, 1, 1, 1, 0, 0, 0, 0, 0, 0, 0, 1, 0, 0, 0, 1, 1,\n",
       "       0, 0, 0, 0, 1, 0, 0, 0, 1, 1, 0, 1, 0, 0, 0, 0, 1, 0, 1, 1, 1, 0,\n",
       "       0, 0, 0, 0, 0, 1, 0, 0, 0, 0, 1, 0, 0, 0, 0, 0, 0, 0, 1, 1, 0, 0,\n",
       "       0, 1, 0, 0, 0, 1, 1, 1, 0, 0, 0, 0, 0, 0, 0, 0, 1, 0, 1, 0, 0, 0,\n",
       "       1, 0, 0, 1, 0, 0, 0, 0, 0, 0, 0, 0, 0, 1, 0, 1, 0, 1, 0, 1, 1, 0,\n",
       "       0, 0, 1, 0, 1, 0, 0, 1, 0, 1, 1, 0, 1, 1, 0, 1, 1, 0, 0, 1, 0, 0,\n",
       "       1, 1, 1, 0, 0, 0, 0, 0, 1, 1, 0, 1, 0, 0, 0, 0, 0, 1, 0, 0, 0, 1,\n",
       "       0, 1, 0, 0, 1, 0, 1, 0, 0, 0, 0, 0, 1, 1, 1, 1, 1, 0, 1, 0, 0, 0],\n",
       "      dtype=int64)"
      ]
     },
     "execution_count": 80,
     "metadata": {},
     "output_type": "execute_result"
    }
   ],
   "source": [
    "y_pred"
   ]
  },
  {
   "cell_type": "markdown",
   "id": "dfab5f44",
   "metadata": {},
   "source": [
    "Finally, let's evaluate the model to see how correct our values are."
   ]
  },
  {
   "cell_type": "code",
   "execution_count": 81,
   "id": "f71e349f",
   "metadata": {},
   "outputs": [
    {
     "data": {
      "text/plain": [
       "80.25"
      ]
     },
     "execution_count": 81,
     "metadata": {},
     "output_type": "execute_result"
    }
   ],
   "source": [
    "acc_logistic = round(clf.score(x_train, y_train)*100, 2)\n",
    "acc_logistic"
   ]
  },
  {
   "cell_type": "markdown",
   "id": "37baa5f5",
   "metadata": {},
   "source": [
    "The output above means that my models accuracy is 80.25%. In other words, my model correctly predicted whether a passenger survived or perished on the Titanic 80.25% of the time."
   ]
  },
  {
   "cell_type": "markdown",
   "id": "e16b198a",
   "metadata": {},
   "source": [
    "I'll quickly create a dataframe that includes the test passenger and his/her survival outcome as predicted by my model"
   ]
  },
  {
   "cell_type": "code",
   "execution_count": 83,
   "id": "3139892d",
   "metadata": {},
   "outputs": [
    {
     "data": {
      "text/html": [
       "<div>\n",
       "<style scoped>\n",
       "    .dataframe tbody tr th:only-of-type {\n",
       "        vertical-align: middle;\n",
       "    }\n",
       "\n",
       "    .dataframe tbody tr th {\n",
       "        vertical-align: top;\n",
       "    }\n",
       "\n",
       "    .dataframe thead th {\n",
       "        text-align: right;\n",
       "    }\n",
       "</style>\n",
       "<table border=\"1\" class=\"dataframe\">\n",
       "  <thead>\n",
       "    <tr style=\"text-align: right;\">\n",
       "      <th></th>\n",
       "      <th>PassengerId</th>\n",
       "      <th>Survived</th>\n",
       "    </tr>\n",
       "  </thead>\n",
       "  <tbody>\n",
       "    <tr>\n",
       "      <th>0</th>\n",
       "      <td>892</td>\n",
       "      <td>0</td>\n",
       "    </tr>\n",
       "    <tr>\n",
       "      <th>1</th>\n",
       "      <td>893</td>\n",
       "      <td>1</td>\n",
       "    </tr>\n",
       "    <tr>\n",
       "      <th>2</th>\n",
       "      <td>894</td>\n",
       "      <td>0</td>\n",
       "    </tr>\n",
       "    <tr>\n",
       "      <th>3</th>\n",
       "      <td>895</td>\n",
       "      <td>0</td>\n",
       "    </tr>\n",
       "    <tr>\n",
       "      <th>4</th>\n",
       "      <td>896</td>\n",
       "      <td>1</td>\n",
       "    </tr>\n",
       "    <tr>\n",
       "      <th>...</th>\n",
       "      <td>...</td>\n",
       "      <td>...</td>\n",
       "    </tr>\n",
       "    <tr>\n",
       "      <th>413</th>\n",
       "      <td>1305</td>\n",
       "      <td>0</td>\n",
       "    </tr>\n",
       "    <tr>\n",
       "      <th>414</th>\n",
       "      <td>1306</td>\n",
       "      <td>1</td>\n",
       "    </tr>\n",
       "    <tr>\n",
       "      <th>415</th>\n",
       "      <td>1307</td>\n",
       "      <td>0</td>\n",
       "    </tr>\n",
       "    <tr>\n",
       "      <th>416</th>\n",
       "      <td>1308</td>\n",
       "      <td>0</td>\n",
       "    </tr>\n",
       "    <tr>\n",
       "      <th>417</th>\n",
       "      <td>1309</td>\n",
       "      <td>0</td>\n",
       "    </tr>\n",
       "  </tbody>\n",
       "</table>\n",
       "<p>418 rows × 2 columns</p>\n",
       "</div>"
      ],
      "text/plain": [
       "     PassengerId  Survived\n",
       "0            892         0\n",
       "1            893         1\n",
       "2            894         0\n",
       "3            895         0\n",
       "4            896         1\n",
       "..           ...       ...\n",
       "413         1305         0\n",
       "414         1306         1\n",
       "415         1307         0\n",
       "416         1308         0\n",
       "417         1309         0\n",
       "\n",
       "[418 rows x 2 columns]"
      ]
     },
     "execution_count": 83,
     "metadata": {},
     "output_type": "execute_result"
    }
   ],
   "source": [
    "output = pd.DataFrame(data = {'PassengerId': test_df.PassengerId, 'Survived': y_pred})\n",
    "output"
   ]
  },
  {
   "cell_type": "markdown",
   "id": "4b3891ea",
   "metadata": {},
   "source": [
    "# The End"
   ]
  }
 ],
 "metadata": {
  "kernelspec": {
   "display_name": "Python 3 (ipykernel)",
   "language": "python",
   "name": "python3"
  },
  "language_info": {
   "codemirror_mode": {
    "name": "ipython",
    "version": 3
   },
   "file_extension": ".py",
   "mimetype": "text/x-python",
   "name": "python",
   "nbconvert_exporter": "python",
   "pygments_lexer": "ipython3",
   "version": "3.10.8"
  }
 },
 "nbformat": 4,
 "nbformat_minor": 5
}
